{
 "cells": [
  {
   "cell_type": "code",
   "execution_count": 84,
   "metadata": {},
   "outputs": [],
   "source": [
    "import pandas as pd\n",
    "import math\n",
    "import networkx\n",
    "import numpy as np\n",
    "from scipy import sparse\n",
    "from scipy import stats"
   ]
  },
  {
   "cell_type": "code",
   "execution_count": 85,
   "metadata": {},
   "outputs": [],
   "source": [
    "items_transactions = pd.read_csv(\"items_transactions.csv\")\n",
    "items_descriptions = pd.read_csv(\"items_descriptions.csv\")"
   ]
  },
  {
   "cell_type": "code",
   "execution_count": 86,
   "metadata": {},
   "outputs": [
    {
     "data": {
      "text/html": [
       "<div>\n",
       "<style scoped>\n",
       "    .dataframe tbody tr th:only-of-type {\n",
       "        vertical-align: middle;\n",
       "    }\n",
       "\n",
       "    .dataframe tbody tr th {\n",
       "        vertical-align: top;\n",
       "    }\n",
       "\n",
       "    .dataframe thead th {\n",
       "        text-align: right;\n",
       "    }\n",
       "</style>\n",
       "<table border=\"1\" class=\"dataframe\">\n",
       "  <thead>\n",
       "    <tr style=\"text-align: right;\">\n",
       "      <th></th>\n",
       "      <th>global_transaction_id</th>\n",
       "      <th>item_id</th>\n",
       "      <th>dept_num</th>\n",
       "      <th>qty_sold</th>\n",
       "      <th>item_price</th>\n",
       "      <th>qty_is_weight</th>\n",
       "      <th>ticket_num</th>\n",
       "      <th>date</th>\n",
       "      <th>time_scanned</th>\n",
       "    </tr>\n",
       "  </thead>\n",
       "  <tbody>\n",
       "    <tr>\n",
       "      <th>0</th>\n",
       "      <td>0</td>\n",
       "      <td>4889</td>\n",
       "      <td>6</td>\n",
       "      <td>3</td>\n",
       "      <td>99</td>\n",
       "      <td>0</td>\n",
       "      <td>2527</td>\n",
       "      <td>2020-07-01</td>\n",
       "      <td>07:03:30</td>\n",
       "    </tr>\n",
       "    <tr>\n",
       "      <th>1</th>\n",
       "      <td>0</td>\n",
       "      <td>3125</td>\n",
       "      <td>6</td>\n",
       "      <td>460</td>\n",
       "      <td>429</td>\n",
       "      <td>1</td>\n",
       "      <td>2527</td>\n",
       "      <td>2020-07-01</td>\n",
       "      <td>07:03:34</td>\n",
       "    </tr>\n",
       "    <tr>\n",
       "      <th>2</th>\n",
       "      <td>1</td>\n",
       "      <td>5</td>\n",
       "      <td>20</td>\n",
       "      <td>4</td>\n",
       "      <td>100</td>\n",
       "      <td>0</td>\n",
       "      <td>2528</td>\n",
       "      <td>2020-07-01</td>\n",
       "      <td>07:04:22</td>\n",
       "    </tr>\n",
       "    <tr>\n",
       "      <th>3</th>\n",
       "      <td>1</td>\n",
       "      <td>2</td>\n",
       "      <td>20</td>\n",
       "      <td>6</td>\n",
       "      <td>100</td>\n",
       "      <td>0</td>\n",
       "      <td>2528</td>\n",
       "      <td>2020-07-01</td>\n",
       "      <td>07:04:25</td>\n",
       "    </tr>\n",
       "    <tr>\n",
       "      <th>4</th>\n",
       "      <td>2</td>\n",
       "      <td>7013201045</td>\n",
       "      <td>1</td>\n",
       "      <td>1</td>\n",
       "      <td>299</td>\n",
       "      <td>0</td>\n",
       "      <td>2529</td>\n",
       "      <td>2020-07-01</td>\n",
       "      <td>07:05:06</td>\n",
       "    </tr>\n",
       "  </tbody>\n",
       "</table>\n",
       "</div>"
      ],
      "text/plain": [
       "   global_transaction_id     item_id  dept_num  qty_sold  item_price  \\\n",
       "0                      0        4889         6         3          99   \n",
       "1                      0        3125         6       460         429   \n",
       "2                      1           5        20         4         100   \n",
       "3                      1           2        20         6         100   \n",
       "4                      2  7013201045         1         1         299   \n",
       "\n",
       "   qty_is_weight  ticket_num        date time_scanned  \n",
       "0              0        2527  2020-07-01     07:03:30  \n",
       "1              1        2527  2020-07-01     07:03:34  \n",
       "2              0        2528  2020-07-01     07:04:22  \n",
       "3              0        2528  2020-07-01     07:04:25  \n",
       "4              0        2529  2020-07-01     07:05:06  "
      ]
     },
     "execution_count": 86,
     "metadata": {},
     "output_type": "execute_result"
    }
   ],
   "source": [
    "# relevant columns: dept_num, item_price, qty_is_weight\n",
    "items_transactions.head()"
   ]
  },
  {
   "cell_type": "code",
   "execution_count": 87,
   "metadata": {},
   "outputs": [],
   "source": [
    "# need to filter remove some items\n",
    "# filter out non food items\n",
    "items_transactions = items_transactions[(items_transactions.item_id != 9492206955)] #plastic bag\n",
    "items_transactions = items_transactions[(items_transactions.item_id != 5555)] #BAG EB&W CUSTOMER\n",
    "items_transactions = items_transactions[(items_transactions.item_id != 9746490305)] #JUBILEE BIG ROLL PAPER TOWELS\n",
    "items_transactions = items_transactions[(items_transactions.item_id != 74870310181)] #store_brand paper napkins\n",
    "\n",
    "# remove items containing \"CRV\" in their name\n",
    "items_descriptions[\"CRV?\"] = items_descriptions[\"description\"].apply(lambda x: \"Yes\" if \"CRV\" in x else \"No\")\n",
    "CRVs = items_descriptions[items_descriptions[\"CRV?\"]==\"Yes\"]\n",
    "CRVs = CRVs[\"item_id\"].tolist()\n",
    "\n",
    "for CRV in CRVs:\n",
    "    items_transactions = items_transactions[(items_transactions.item_id != CRV)]"
   ]
  },
  {
   "cell_type": "code",
   "execution_count": 88,
   "metadata": {},
   "outputs": [
    {
     "data": {
      "text/html": [
       "<div>\n",
       "<style scoped>\n",
       "    .dataframe tbody tr th:only-of-type {\n",
       "        vertical-align: middle;\n",
       "    }\n",
       "\n",
       "    .dataframe tbody tr th {\n",
       "        vertical-align: top;\n",
       "    }\n",
       "\n",
       "    .dataframe thead th {\n",
       "        text-align: right;\n",
       "    }\n",
       "</style>\n",
       "<table border=\"1\" class=\"dataframe\">\n",
       "  <thead>\n",
       "    <tr style=\"text-align: right;\">\n",
       "      <th></th>\n",
       "      <th>item_id</th>\n",
       "      <th>description</th>\n",
       "      <th>ecomm_description</th>\n",
       "      <th>category</th>\n",
       "      <th>item_type</th>\n",
       "      <th>upc</th>\n",
       "      <th>CRV?</th>\n",
       "    </tr>\n",
       "  </thead>\n",
       "  <tbody>\n",
       "    <tr>\n",
       "      <th>0</th>\n",
       "      <td>1</td>\n",
       "      <td>PAN DULCE SENCILLO</td>\n",
       "      <td>Mexican Sweet Bread/Pan Dulce Mexicano, 1 Count</td>\n",
       "      <td>20101020</td>\n",
       "      <td>0</td>\n",
       "      <td>10</td>\n",
       "      <td>No</td>\n",
       "    </tr>\n",
       "    <tr>\n",
       "      <th>1</th>\n",
       "      <td>2</td>\n",
       "      <td>BOLILLO FRENCH ROLLS</td>\n",
       "      <td>Bolillo, French Rolls, 1 Count</td>\n",
       "      <td>20101210</td>\n",
       "      <td>0</td>\n",
       "      <td>20</td>\n",
       "      <td>No</td>\n",
       "    </tr>\n",
       "    <tr>\n",
       "      <th>2</th>\n",
       "      <td>3</td>\n",
       "      <td>BOLILLO QUESO/CHILE JALAP</td>\n",
       "      <td>Jalapeño and Cheese Bolillo, 1 Count</td>\n",
       "      <td>20101210</td>\n",
       "      <td>0</td>\n",
       "      <td>30</td>\n",
       "      <td>No</td>\n",
       "    </tr>\n",
       "    <tr>\n",
       "      <th>3</th>\n",
       "      <td>4</td>\n",
       "      <td>EMPANADA</td>\n",
       "      <td>NaN</td>\n",
       "      <td>20101020</td>\n",
       "      <td>0</td>\n",
       "      <td>40</td>\n",
       "      <td>No</td>\n",
       "    </tr>\n",
       "    <tr>\n",
       "      <th>4</th>\n",
       "      <td>5</td>\n",
       "      <td>MIni Bolillo</td>\n",
       "      <td>BOLILLO SMALL, 2 OZ</td>\n",
       "      <td>20101210</td>\n",
       "      <td>0</td>\n",
       "      <td>50</td>\n",
       "      <td>No</td>\n",
       "    </tr>\n",
       "  </tbody>\n",
       "</table>\n",
       "</div>"
      ],
      "text/plain": [
       "   item_id                description  \\\n",
       "0        1         PAN DULCE SENCILLO   \n",
       "1        2       BOLILLO FRENCH ROLLS   \n",
       "2        3  BOLILLO QUESO/CHILE JALAP   \n",
       "3        4                   EMPANADA   \n",
       "4        5               MIni Bolillo   \n",
       "\n",
       "                                 ecomm_description  category  item_type  upc  \\\n",
       "0  Mexican Sweet Bread/Pan Dulce Mexicano, 1 Count  20101020          0   10   \n",
       "1                   Bolillo, French Rolls, 1 Count  20101210          0   20   \n",
       "2             Jalapeño and Cheese Bolillo, 1 Count  20101210          0   30   \n",
       "3                                              NaN  20101020          0   40   \n",
       "4                              BOLILLO SMALL, 2 OZ  20101210          0   50   \n",
       "\n",
       "  CRV?  \n",
       "0   No  \n",
       "1   No  \n",
       "2   No  \n",
       "3   No  \n",
       "4   No  "
      ]
     },
     "execution_count": 88,
     "metadata": {},
     "output_type": "execute_result"
    }
   ],
   "source": [
    "# relevant columns: description, category, item_type\n",
    "items_descriptions.head()"
   ]
  },
  {
   "cell_type": "code",
   "execution_count": 89,
   "metadata": {},
   "outputs": [
    {
     "data": {
      "text/plain": [
       "0                    1\n",
       "1                    2\n",
       "2                    3\n",
       "3                    4\n",
       "4                    5\n",
       "             ...      \n",
       "48546    5071441509514\n",
       "48547    7502228060147\n",
       "48548    7503006910074\n",
       "48549    8853682056661\n",
       "48550    9076770700138\n",
       "Name: item_id, Length: 48551, dtype: int64"
      ]
     },
     "execution_count": 89,
     "metadata": {},
     "output_type": "execute_result"
    }
   ],
   "source": [
    "pd.to_numeric(items_descriptions[\"item_id\"])"
   ]
  },
  {
   "cell_type": "code",
   "execution_count": 90,
   "metadata": {},
   "outputs": [
    {
     "data": {
      "text/plain": [
       "0                 4889\n",
       "1                 3125\n",
       "2                    5\n",
       "3                    2\n",
       "4           7013201045\n",
       "              ...     \n",
       "1293514    74870307001\n",
       "1293515              1\n",
       "1293516           4666\n",
       "1293517    20411800000\n",
       "1293518           4046\n",
       "Name: item_id, Length: 1110716, dtype: int64"
      ]
     },
     "execution_count": 90,
     "metadata": {},
     "output_type": "execute_result"
    }
   ],
   "source": [
    "pd.to_numeric(items_transactions[\"item_id\"])"
   ]
  },
  {
   "cell_type": "code",
   "execution_count": 91,
   "metadata": {},
   "outputs": [],
   "source": [
    "df = pd.merge(items_transactions, items_descriptions, on=\"item_id\", how=\"inner\")"
   ]
  },
  {
   "cell_type": "code",
   "execution_count": 92,
   "metadata": {},
   "outputs": [
    {
     "data": {
      "text/html": [
       "<div>\n",
       "<style scoped>\n",
       "    .dataframe tbody tr th:only-of-type {\n",
       "        vertical-align: middle;\n",
       "    }\n",
       "\n",
       "    .dataframe tbody tr th {\n",
       "        vertical-align: top;\n",
       "    }\n",
       "\n",
       "    .dataframe thead th {\n",
       "        text-align: right;\n",
       "    }\n",
       "</style>\n",
       "<table border=\"1\" class=\"dataframe\">\n",
       "  <thead>\n",
       "    <tr style=\"text-align: right;\">\n",
       "      <th></th>\n",
       "      <th>global_transaction_id</th>\n",
       "      <th>item_id</th>\n",
       "      <th>dept_num</th>\n",
       "      <th>qty_sold</th>\n",
       "      <th>item_price</th>\n",
       "      <th>qty_is_weight</th>\n",
       "      <th>ticket_num</th>\n",
       "      <th>date</th>\n",
       "      <th>time_scanned</th>\n",
       "      <th>description</th>\n",
       "      <th>ecomm_description</th>\n",
       "      <th>category</th>\n",
       "      <th>item_type</th>\n",
       "      <th>upc</th>\n",
       "      <th>CRV?</th>\n",
       "    </tr>\n",
       "  </thead>\n",
       "  <tbody>\n",
       "    <tr>\n",
       "      <th>0</th>\n",
       "      <td>0</td>\n",
       "      <td>4889</td>\n",
       "      <td>6</td>\n",
       "      <td>3</td>\n",
       "      <td>99</td>\n",
       "      <td>0</td>\n",
       "      <td>2527</td>\n",
       "      <td>2020-07-01</td>\n",
       "      <td>07:03:30</td>\n",
       "      <td>HERBS CILANTRO</td>\n",
       "      <td>Cilantro, 1 bunch</td>\n",
       "      <td>6001075</td>\n",
       "      <td>0</td>\n",
       "      <td>48890</td>\n",
       "      <td>No</td>\n",
       "    </tr>\n",
       "    <tr>\n",
       "      <th>1</th>\n",
       "      <td>20</td>\n",
       "      <td>4889</td>\n",
       "      <td>6</td>\n",
       "      <td>3</td>\n",
       "      <td>99</td>\n",
       "      <td>0</td>\n",
       "      <td>2547</td>\n",
       "      <td>2020-07-01</td>\n",
       "      <td>07:21:42</td>\n",
       "      <td>HERBS CILANTRO</td>\n",
       "      <td>Cilantro, 1 bunch</td>\n",
       "      <td>6001075</td>\n",
       "      <td>0</td>\n",
       "      <td>48890</td>\n",
       "      <td>No</td>\n",
       "    </tr>\n",
       "    <tr>\n",
       "      <th>2</th>\n",
       "      <td>25</td>\n",
       "      <td>4889</td>\n",
       "      <td>6</td>\n",
       "      <td>16</td>\n",
       "      <td>99</td>\n",
       "      <td>0</td>\n",
       "      <td>2553</td>\n",
       "      <td>2020-07-01</td>\n",
       "      <td>07:25:53</td>\n",
       "      <td>HERBS CILANTRO</td>\n",
       "      <td>Cilantro, 1 bunch</td>\n",
       "      <td>6001075</td>\n",
       "      <td>0</td>\n",
       "      <td>48890</td>\n",
       "      <td>No</td>\n",
       "    </tr>\n",
       "    <tr>\n",
       "      <th>3</th>\n",
       "      <td>39</td>\n",
       "      <td>4889</td>\n",
       "      <td>6</td>\n",
       "      <td>1</td>\n",
       "      <td>99</td>\n",
       "      <td>0</td>\n",
       "      <td>2567</td>\n",
       "      <td>2020-07-01</td>\n",
       "      <td>07:53:46</td>\n",
       "      <td>HERBS CILANTRO</td>\n",
       "      <td>Cilantro, 1 bunch</td>\n",
       "      <td>6001075</td>\n",
       "      <td>0</td>\n",
       "      <td>48890</td>\n",
       "      <td>No</td>\n",
       "    </tr>\n",
       "    <tr>\n",
       "      <th>4</th>\n",
       "      <td>46</td>\n",
       "      <td>4889</td>\n",
       "      <td>6</td>\n",
       "      <td>1</td>\n",
       "      <td>99</td>\n",
       "      <td>0</td>\n",
       "      <td>2575</td>\n",
       "      <td>2020-07-01</td>\n",
       "      <td>09:22:57</td>\n",
       "      <td>HERBS CILANTRO</td>\n",
       "      <td>Cilantro, 1 bunch</td>\n",
       "      <td>6001075</td>\n",
       "      <td>0</td>\n",
       "      <td>48890</td>\n",
       "      <td>No</td>\n",
       "    </tr>\n",
       "  </tbody>\n",
       "</table>\n",
       "</div>"
      ],
      "text/plain": [
       "   global_transaction_id  item_id  dept_num  qty_sold  item_price  \\\n",
       "0                      0     4889         6         3          99   \n",
       "1                     20     4889         6         3          99   \n",
       "2                     25     4889         6        16          99   \n",
       "3                     39     4889         6         1          99   \n",
       "4                     46     4889         6         1          99   \n",
       "\n",
       "   qty_is_weight  ticket_num        date time_scanned     description  \\\n",
       "0              0        2527  2020-07-01     07:03:30  HERBS CILANTRO   \n",
       "1              0        2547  2020-07-01     07:21:42  HERBS CILANTRO   \n",
       "2              0        2553  2020-07-01     07:25:53  HERBS CILANTRO   \n",
       "3              0        2567  2020-07-01     07:53:46  HERBS CILANTRO   \n",
       "4              0        2575  2020-07-01     09:22:57  HERBS CILANTRO   \n",
       "\n",
       "   ecomm_description  category  item_type    upc CRV?  \n",
       "0  Cilantro, 1 bunch   6001075          0  48890   No  \n",
       "1  Cilantro, 1 bunch   6001075          0  48890   No  \n",
       "2  Cilantro, 1 bunch   6001075          0  48890   No  \n",
       "3  Cilantro, 1 bunch   6001075          0  48890   No  \n",
       "4  Cilantro, 1 bunch   6001075          0  48890   No  "
      ]
     },
     "execution_count": 92,
     "metadata": {},
     "output_type": "execute_result"
    }
   ],
   "source": [
    "df.head()"
   ]
  },
  {
   "cell_type": "code",
   "execution_count": 93,
   "metadata": {},
   "outputs": [
    {
     "data": {
      "text/plain": [
       "(1104419, 15)"
      ]
     },
     "execution_count": 93,
     "metadata": {},
     "output_type": "execute_result"
    }
   ],
   "source": [
    "df.shape"
   ]
  },
  {
   "cell_type": "code",
   "execution_count": 94,
   "metadata": {},
   "outputs": [],
   "source": [
    "columns = [\"dept_num\", \"item_price\", \"qty_is_weight\", \"category\", \"item_type\", \"description\", \"item_id\"]\n",
    "df2 = df[columns]"
   ]
  },
  {
   "cell_type": "code",
   "execution_count": 95,
   "metadata": {},
   "outputs": [
    {
     "data": {
      "text/html": [
       "<div>\n",
       "<style scoped>\n",
       "    .dataframe tbody tr th:only-of-type {\n",
       "        vertical-align: middle;\n",
       "    }\n",
       "\n",
       "    .dataframe tbody tr th {\n",
       "        vertical-align: top;\n",
       "    }\n",
       "\n",
       "    .dataframe thead th {\n",
       "        text-align: right;\n",
       "    }\n",
       "</style>\n",
       "<table border=\"1\" class=\"dataframe\">\n",
       "  <thead>\n",
       "    <tr style=\"text-align: right;\">\n",
       "      <th></th>\n",
       "      <th>dept_num</th>\n",
       "      <th>item_price</th>\n",
       "      <th>qty_is_weight</th>\n",
       "      <th>category</th>\n",
       "      <th>item_type</th>\n",
       "      <th>description</th>\n",
       "      <th>item_id</th>\n",
       "    </tr>\n",
       "  </thead>\n",
       "  <tbody>\n",
       "    <tr>\n",
       "      <th>0</th>\n",
       "      <td>6</td>\n",
       "      <td>99</td>\n",
       "      <td>0</td>\n",
       "      <td>6001075</td>\n",
       "      <td>0</td>\n",
       "      <td>HERBS CILANTRO</td>\n",
       "      <td>4889</td>\n",
       "    </tr>\n",
       "    <tr>\n",
       "      <th>1</th>\n",
       "      <td>6</td>\n",
       "      <td>99</td>\n",
       "      <td>0</td>\n",
       "      <td>6001075</td>\n",
       "      <td>0</td>\n",
       "      <td>HERBS CILANTRO</td>\n",
       "      <td>4889</td>\n",
       "    </tr>\n",
       "    <tr>\n",
       "      <th>2</th>\n",
       "      <td>6</td>\n",
       "      <td>99</td>\n",
       "      <td>0</td>\n",
       "      <td>6001075</td>\n",
       "      <td>0</td>\n",
       "      <td>HERBS CILANTRO</td>\n",
       "      <td>4889</td>\n",
       "    </tr>\n",
       "    <tr>\n",
       "      <th>3</th>\n",
       "      <td>6</td>\n",
       "      <td>99</td>\n",
       "      <td>0</td>\n",
       "      <td>6001075</td>\n",
       "      <td>0</td>\n",
       "      <td>HERBS CILANTRO</td>\n",
       "      <td>4889</td>\n",
       "    </tr>\n",
       "    <tr>\n",
       "      <th>4</th>\n",
       "      <td>6</td>\n",
       "      <td>99</td>\n",
       "      <td>0</td>\n",
       "      <td>6001075</td>\n",
       "      <td>0</td>\n",
       "      <td>HERBS CILANTRO</td>\n",
       "      <td>4889</td>\n",
       "    </tr>\n",
       "  </tbody>\n",
       "</table>\n",
       "</div>"
      ],
      "text/plain": [
       "   dept_num  item_price  qty_is_weight  category  item_type     description  \\\n",
       "0         6          99              0   6001075          0  HERBS CILANTRO   \n",
       "1         6          99              0   6001075          0  HERBS CILANTRO   \n",
       "2         6          99              0   6001075          0  HERBS CILANTRO   \n",
       "3         6          99              0   6001075          0  HERBS CILANTRO   \n",
       "4         6          99              0   6001075          0  HERBS CILANTRO   \n",
       "\n",
       "   item_id  \n",
       "0     4889  \n",
       "1     4889  \n",
       "2     4889  \n",
       "3     4889  \n",
       "4     4889  "
      ]
     },
     "execution_count": 95,
     "metadata": {},
     "output_type": "execute_result"
    }
   ],
   "source": [
    "df2.head()"
   ]
  },
  {
   "cell_type": "code",
   "execution_count": 96,
   "metadata": {},
   "outputs": [
    {
     "data": {
      "text/plain": [
       "(1104419, 7)"
      ]
     },
     "execution_count": 96,
     "metadata": {},
     "output_type": "execute_result"
    }
   ],
   "source": [
    "df2.shape"
   ]
  },
  {
   "cell_type": "code",
   "execution_count": 97,
   "metadata": {},
   "outputs": [],
   "source": [
    "from sklearn.cluster import KMeans"
   ]
  },
  {
   "cell_type": "code",
   "execution_count": 98,
   "metadata": {},
   "outputs": [],
   "source": [
    "# k means clustering based on these columns\n",
    "columns_2 = [\"dept_num\", \"item_price\", \"qty_is_weight\", \"category\", \"item_type\"]"
   ]
  },
  {
   "cell_type": "code",
   "execution_count": 99,
   "metadata": {},
   "outputs": [],
   "source": [
    "X = df2[columns_2]"
   ]
  },
  {
   "cell_type": "code",
   "execution_count": 100,
   "metadata": {},
   "outputs": [],
   "source": [
    "# still playing around with n_clusters\n",
    "model = KMeans(n_clusters=150, random_state=1)"
   ]
  },
  {
   "cell_type": "code",
   "execution_count": 101,
   "metadata": {},
   "outputs": [],
   "source": [
    "from sklearn.preprocessing import StandardScaler\n",
    "scaler = StandardScaler()\n",
    "scaler.fit(X)\n",
    "X_scaled = scaler.transform(X)"
   ]
  },
  {
   "cell_type": "code",
   "execution_count": 102,
   "metadata": {},
   "outputs": [],
   "source": [
    "X_scaled = pd.DataFrame(X_scaled)"
   ]
  },
  {
   "cell_type": "code",
   "execution_count": 103,
   "metadata": {},
   "outputs": [
    {
     "data": {
      "text/html": [
       "<div>\n",
       "<style scoped>\n",
       "    .dataframe tbody tr th:only-of-type {\n",
       "        vertical-align: middle;\n",
       "    }\n",
       "\n",
       "    .dataframe tbody tr th {\n",
       "        vertical-align: top;\n",
       "    }\n",
       "\n",
       "    .dataframe thead th {\n",
       "        text-align: right;\n",
       "    }\n",
       "</style>\n",
       "<table border=\"1\" class=\"dataframe\">\n",
       "  <thead>\n",
       "    <tr style=\"text-align: right;\">\n",
       "      <th></th>\n",
       "      <th>0</th>\n",
       "      <th>1</th>\n",
       "      <th>2</th>\n",
       "      <th>3</th>\n",
       "      <th>4</th>\n",
       "    </tr>\n",
       "  </thead>\n",
       "  <tbody>\n",
       "    <tr>\n",
       "      <th>0</th>\n",
       "      <td>-0.327192</td>\n",
       "      <td>-0.660509</td>\n",
       "      <td>-0.683297</td>\n",
       "      <td>-0.344566</td>\n",
       "      <td>-0.010918</td>\n",
       "    </tr>\n",
       "    <tr>\n",
       "      <th>1</th>\n",
       "      <td>-0.327192</td>\n",
       "      <td>-0.660509</td>\n",
       "      <td>-0.683297</td>\n",
       "      <td>-0.344566</td>\n",
       "      <td>-0.010918</td>\n",
       "    </tr>\n",
       "    <tr>\n",
       "      <th>2</th>\n",
       "      <td>-0.327192</td>\n",
       "      <td>-0.660509</td>\n",
       "      <td>-0.683297</td>\n",
       "      <td>-0.344566</td>\n",
       "      <td>-0.010918</td>\n",
       "    </tr>\n",
       "    <tr>\n",
       "      <th>3</th>\n",
       "      <td>-0.327192</td>\n",
       "      <td>-0.660509</td>\n",
       "      <td>-0.683297</td>\n",
       "      <td>-0.344566</td>\n",
       "      <td>-0.010918</td>\n",
       "    </tr>\n",
       "    <tr>\n",
       "      <th>4</th>\n",
       "      <td>-0.327192</td>\n",
       "      <td>-0.660509</td>\n",
       "      <td>-0.683297</td>\n",
       "      <td>-0.344566</td>\n",
       "      <td>-0.010918</td>\n",
       "    </tr>\n",
       "  </tbody>\n",
       "</table>\n",
       "</div>"
      ],
      "text/plain": [
       "          0         1         2         3         4\n",
       "0 -0.327192 -0.660509 -0.683297 -0.344566 -0.010918\n",
       "1 -0.327192 -0.660509 -0.683297 -0.344566 -0.010918\n",
       "2 -0.327192 -0.660509 -0.683297 -0.344566 -0.010918\n",
       "3 -0.327192 -0.660509 -0.683297 -0.344566 -0.010918\n",
       "4 -0.327192 -0.660509 -0.683297 -0.344566 -0.010918"
      ]
     },
     "execution_count": 103,
     "metadata": {},
     "output_type": "execute_result"
    }
   ],
   "source": [
    "X_scaled.head()"
   ]
  },
  {
   "cell_type": "code",
   "execution_count": 104,
   "metadata": {},
   "outputs": [],
   "source": [
    "cluster = model.fit_predict(X_scaled)"
   ]
  },
  {
   "cell_type": "code",
   "execution_count": 105,
   "metadata": {},
   "outputs": [],
   "source": [
    "cluster_assignments = pd.DataFrame(cluster)"
   ]
  },
  {
   "cell_type": "code",
   "execution_count": 107,
   "metadata": {},
   "outputs": [
    {
     "data": {
      "text/html": [
       "<div>\n",
       "<style scoped>\n",
       "    .dataframe tbody tr th:only-of-type {\n",
       "        vertical-align: middle;\n",
       "    }\n",
       "\n",
       "    .dataframe tbody tr th {\n",
       "        vertical-align: top;\n",
       "    }\n",
       "\n",
       "    .dataframe thead th {\n",
       "        text-align: right;\n",
       "    }\n",
       "</style>\n",
       "<table border=\"1\" class=\"dataframe\">\n",
       "  <thead>\n",
       "    <tr style=\"text-align: right;\">\n",
       "      <th></th>\n",
       "      <th>0</th>\n",
       "    </tr>\n",
       "  </thead>\n",
       "  <tbody>\n",
       "    <tr>\n",
       "      <th>0</th>\n",
       "      <td>21</td>\n",
       "    </tr>\n",
       "    <tr>\n",
       "      <th>1</th>\n",
       "      <td>21</td>\n",
       "    </tr>\n",
       "    <tr>\n",
       "      <th>2</th>\n",
       "      <td>21</td>\n",
       "    </tr>\n",
       "    <tr>\n",
       "      <th>3</th>\n",
       "      <td>21</td>\n",
       "    </tr>\n",
       "    <tr>\n",
       "      <th>4</th>\n",
       "      <td>21</td>\n",
       "    </tr>\n",
       "  </tbody>\n",
       "</table>\n",
       "</div>"
      ],
      "text/plain": [
       "    0\n",
       "0  21\n",
       "1  21\n",
       "2  21\n",
       "3  21\n",
       "4  21"
      ]
     },
     "execution_count": 107,
     "metadata": {},
     "output_type": "execute_result"
    }
   ],
   "source": [
    "cluster_assignments.head()"
   ]
  },
  {
   "cell_type": "code",
   "execution_count": 108,
   "metadata": {},
   "outputs": [],
   "source": [
    "df3 = pd.concat([df2[\"description\"], df2[\"item_id\"], cluster_assignments], axis=1)"
   ]
  },
  {
   "cell_type": "code",
   "execution_count": 109,
   "metadata": {},
   "outputs": [
    {
     "data": {
      "text/plain": [
       "(1104419, 3)"
      ]
     },
     "execution_count": 109,
     "metadata": {},
     "output_type": "execute_result"
    }
   ],
   "source": [
    "df3.shape"
   ]
  },
  {
   "cell_type": "code",
   "execution_count": 110,
   "metadata": {},
   "outputs": [],
   "source": [
    "df4 = df3.drop_duplicates()"
   ]
  },
  {
   "cell_type": "code",
   "execution_count": 111,
   "metadata": {},
   "outputs": [
    {
     "data": {
      "text/html": [
       "<div>\n",
       "<style scoped>\n",
       "    .dataframe tbody tr th:only-of-type {\n",
       "        vertical-align: middle;\n",
       "    }\n",
       "\n",
       "    .dataframe tbody tr th {\n",
       "        vertical-align: top;\n",
       "    }\n",
       "\n",
       "    .dataframe thead th {\n",
       "        text-align: right;\n",
       "    }\n",
       "</style>\n",
       "<table border=\"1\" class=\"dataframe\">\n",
       "  <thead>\n",
       "    <tr style=\"text-align: right;\">\n",
       "      <th></th>\n",
       "      <th>description</th>\n",
       "      <th>item_id</th>\n",
       "      <th>0</th>\n",
       "    </tr>\n",
       "  </thead>\n",
       "  <tbody>\n",
       "    <tr>\n",
       "      <th>0</th>\n",
       "      <td>HERBS CILANTRO</td>\n",
       "      <td>4889</td>\n",
       "      <td>21</td>\n",
       "    </tr>\n",
       "    <tr>\n",
       "      <th>16152</th>\n",
       "      <td>*CHILE HABANERO</td>\n",
       "      <td>3125</td>\n",
       "      <td>16</td>\n",
       "    </tr>\n",
       "    <tr>\n",
       "      <th>16158</th>\n",
       "      <td>*CHILE HABANERO</td>\n",
       "      <td>3125</td>\n",
       "      <td>108</td>\n",
       "    </tr>\n",
       "    <tr>\n",
       "      <th>16990</th>\n",
       "      <td>MIni Bolillo</td>\n",
       "      <td>5</td>\n",
       "      <td>5</td>\n",
       "    </tr>\n",
       "    <tr>\n",
       "      <th>20238</th>\n",
       "      <td>BOLILLO FRENCH ROLLS</td>\n",
       "      <td>2</td>\n",
       "      <td>5</td>\n",
       "    </tr>\n",
       "  </tbody>\n",
       "</table>\n",
       "</div>"
      ],
      "text/plain": [
       "                description  item_id    0\n",
       "0            HERBS CILANTRO     4889   21\n",
       "16152       *CHILE HABANERO     3125   16\n",
       "16158       *CHILE HABANERO     3125  108\n",
       "16990          MIni Bolillo        5    5\n",
       "20238  BOLILLO FRENCH ROLLS        2    5"
      ]
     },
     "execution_count": 111,
     "metadata": {},
     "output_type": "execute_result"
    }
   ],
   "source": [
    "df4.head()"
   ]
  },
  {
   "cell_type": "code",
   "execution_count": 114,
   "metadata": {},
   "outputs": [
    {
     "name": "stderr",
     "output_type": "stream",
     "text": [
      "/anaconda/lib/python3.6/site-packages/pandas/core/frame.py:4304: SettingWithCopyWarning: \n",
      "A value is trying to be set on a copy of a slice from a DataFrame\n",
      "\n",
      "See the caveats in the documentation: https://pandas.pydata.org/pandas-docs/stable/user_guide/indexing.html#returning-a-view-versus-a-copy\n",
      "  errors=errors,\n"
     ]
    }
   ],
   "source": [
    "# rename column 0\n",
    "df4.rename(columns={0:\"cluster\"},inplace=True)"
   ]
  },
  {
   "cell_type": "code",
   "execution_count": 115,
   "metadata": {},
   "outputs": [
    {
     "data": {
      "text/html": [
       "<div>\n",
       "<style scoped>\n",
       "    .dataframe tbody tr th:only-of-type {\n",
       "        vertical-align: middle;\n",
       "    }\n",
       "\n",
       "    .dataframe tbody tr th {\n",
       "        vertical-align: top;\n",
       "    }\n",
       "\n",
       "    .dataframe thead th {\n",
       "        text-align: right;\n",
       "    }\n",
       "</style>\n",
       "<table border=\"1\" class=\"dataframe\">\n",
       "  <thead>\n",
       "    <tr style=\"text-align: right;\">\n",
       "      <th></th>\n",
       "      <th>description</th>\n",
       "      <th>item_id</th>\n",
       "      <th>cluster</th>\n",
       "    </tr>\n",
       "  </thead>\n",
       "  <tbody>\n",
       "    <tr>\n",
       "      <th>0</th>\n",
       "      <td>HERBS CILANTRO</td>\n",
       "      <td>4889</td>\n",
       "      <td>21</td>\n",
       "    </tr>\n",
       "    <tr>\n",
       "      <th>16152</th>\n",
       "      <td>*CHILE HABANERO</td>\n",
       "      <td>3125</td>\n",
       "      <td>16</td>\n",
       "    </tr>\n",
       "    <tr>\n",
       "      <th>16158</th>\n",
       "      <td>*CHILE HABANERO</td>\n",
       "      <td>3125</td>\n",
       "      <td>108</td>\n",
       "    </tr>\n",
       "    <tr>\n",
       "      <th>16990</th>\n",
       "      <td>MIni Bolillo</td>\n",
       "      <td>5</td>\n",
       "      <td>5</td>\n",
       "    </tr>\n",
       "    <tr>\n",
       "      <th>20238</th>\n",
       "      <td>BOLILLO FRENCH ROLLS</td>\n",
       "      <td>2</td>\n",
       "      <td>5</td>\n",
       "    </tr>\n",
       "  </tbody>\n",
       "</table>\n",
       "</div>"
      ],
      "text/plain": [
       "                description  item_id  cluster\n",
       "0            HERBS CILANTRO     4889       21\n",
       "16152       *CHILE HABANERO     3125       16\n",
       "16158       *CHILE HABANERO     3125      108\n",
       "16990          MIni Bolillo        5        5\n",
       "20238  BOLILLO FRENCH ROLLS        2        5"
      ]
     },
     "execution_count": 115,
     "metadata": {},
     "output_type": "execute_result"
    }
   ],
   "source": [
    "df4.head()"
   ]
  },
  {
   "cell_type": "code",
   "execution_count": 123,
   "metadata": {},
   "outputs": [
    {
     "data": {
      "text/html": [
       "<div>\n",
       "<style scoped>\n",
       "    .dataframe tbody tr th:only-of-type {\n",
       "        vertical-align: middle;\n",
       "    }\n",
       "\n",
       "    .dataframe tbody tr th {\n",
       "        vertical-align: top;\n",
       "    }\n",
       "\n",
       "    .dataframe thead th {\n",
       "        text-align: right;\n",
       "    }\n",
       "</style>\n",
       "<table border=\"1\" class=\"dataframe\">\n",
       "  <thead>\n",
       "    <tr style=\"text-align: right;\">\n",
       "      <th></th>\n",
       "      <th>description</th>\n",
       "      <th>item_id</th>\n",
       "      <th>cluster</th>\n",
       "    </tr>\n",
       "  </thead>\n",
       "  <tbody>\n",
       "    <tr>\n",
       "      <th>16152</th>\n",
       "      <td>*CHILE HABANERO</td>\n",
       "      <td>3125</td>\n",
       "      <td>16</td>\n",
       "    </tr>\n",
       "    <tr>\n",
       "      <th>16158</th>\n",
       "      <td>*CHILE HABANERO</td>\n",
       "      <td>3125</td>\n",
       "      <td>108</td>\n",
       "    </tr>\n",
       "  </tbody>\n",
       "</table>\n",
       "</div>"
      ],
      "text/plain": [
       "           description  item_id  cluster\n",
       "16152  *CHILE HABANERO     3125       16\n",
       "16158  *CHILE HABANERO     3125      108"
      ]
     },
     "execution_count": 123,
     "metadata": {},
     "output_type": "execute_result"
    }
   ],
   "source": [
    "# need to drop more duplicates\n",
    "df4[df4[\"item_id\"] == 3125]"
   ]
  },
  {
   "cell_type": "code",
   "execution_count": 125,
   "metadata": {},
   "outputs": [],
   "source": [
    "c_maxes = df4.groupby(['description', 'item_id']).cluster.transform(max)\n",
    "df4 = df4.loc[df4.cluster == c_maxes]"
   ]
  },
  {
   "cell_type": "code",
   "execution_count": 126,
   "metadata": {},
   "outputs": [
    {
     "data": {
      "text/html": [
       "<div>\n",
       "<style scoped>\n",
       "    .dataframe tbody tr th:only-of-type {\n",
       "        vertical-align: middle;\n",
       "    }\n",
       "\n",
       "    .dataframe tbody tr th {\n",
       "        vertical-align: top;\n",
       "    }\n",
       "\n",
       "    .dataframe thead th {\n",
       "        text-align: right;\n",
       "    }\n",
       "</style>\n",
       "<table border=\"1\" class=\"dataframe\">\n",
       "  <thead>\n",
       "    <tr style=\"text-align: right;\">\n",
       "      <th></th>\n",
       "      <th>description</th>\n",
       "      <th>item_id</th>\n",
       "      <th>cluster</th>\n",
       "    </tr>\n",
       "  </thead>\n",
       "  <tbody>\n",
       "    <tr>\n",
       "      <th>16158</th>\n",
       "      <td>*CHILE HABANERO</td>\n",
       "      <td>3125</td>\n",
       "      <td>108</td>\n",
       "    </tr>\n",
       "  </tbody>\n",
       "</table>\n",
       "</div>"
      ],
      "text/plain": [
       "           description  item_id  cluster\n",
       "16158  *CHILE HABANERO     3125      108"
      ]
     },
     "execution_count": 126,
     "metadata": {},
     "output_type": "execute_result"
    }
   ],
   "source": [
    "df4[df4[\"item_id\"] == 3125]"
   ]
  },
  {
   "cell_type": "code",
   "execution_count": 127,
   "metadata": {},
   "outputs": [],
   "source": [
    "df4.to_csv(\"kmeans_results.csv\")"
   ]
  },
  {
   "cell_type": "code",
   "execution_count": 133,
   "metadata": {},
   "outputs": [
    {
     "data": {
      "text/plain": [
       "108"
      ]
     },
     "execution_count": 133,
     "metadata": {},
     "output_type": "execute_result"
    }
   ],
   "source": [
    "# for a given item_id, need to be able to get its cluster\n",
    "df4[df4[\"item_id\"] == 3125][\"cluster\"].tolist()[0]"
   ]
  },
  {
   "cell_type": "code",
   "execution_count": 32,
   "metadata": {},
   "outputs": [],
   "source": [
    "# take a look at cluster 4\n",
    "df4_cluster4 = df4[df4[0] == 4]\n",
    "df4_cluster4"
   ]
  },
  {
   "cell_type": "code",
   "execution_count": 34,
   "metadata": {},
   "outputs": [],
   "source": [
    "# take a look at cluster 10\n",
    "df4_cluster10 = df4[df4[0] == 10]\n",
    "df4_cluster10"
   ]
  },
  {
   "cell_type": "code",
   "execution_count": 36,
   "metadata": {},
   "outputs": [],
   "source": [
    "#take a look at cluster 3\n",
    "df4_cluster3 = df4[df4[0] == 3]\n",
    "df4_cluster3"
   ]
  },
  {
   "cell_type": "code",
   "execution_count": null,
   "metadata": {},
   "outputs": [],
   "source": [
    "# loss function"
   ]
  },
  {
   "cell_type": "code",
   "execution_count": 71,
   "metadata": {},
   "outputs": [
    {
     "data": {
      "text/plain": [
       "10047"
      ]
     },
     "execution_count": 71,
     "metadata": {},
     "output_type": "execute_result"
    }
   ],
   "source": [
    "# transition matrix/weights?\n",
    "T = sparse.load_npz(\"sparse_adj_matrix.npz\")\n",
    "T.shape[0]"
   ]
  },
  {
   "cell_type": "code",
   "execution_count": 72,
   "metadata": {},
   "outputs": [
    {
     "data": {
      "text/plain": [
       "0.012857446551239007"
      ]
     },
     "execution_count": 72,
     "metadata": {},
     "output_type": "execute_result"
    }
   ],
   "source": [
    "# this is the weight of the edge from node 0 to node 1?\n",
    "T[0,1]"
   ]
  },
  {
   "cell_type": "code",
   "execution_count": 150,
   "metadata": {},
   "outputs": [
    {
     "ename": "SyntaxError",
     "evalue": "invalid syntax (<ipython-input-150-a6bed1c1289a>, line 8)",
     "output_type": "error",
     "traceback": [
      "\u001b[0;36m  File \u001b[0;32m\"<ipython-input-150-a6bed1c1289a>\"\u001b[0;36m, line \u001b[0;32m8\u001b[0m\n\u001b[0;31m    u = # not sure how to do this\u001b[0m\n\u001b[0m                                 ^\u001b[0m\n\u001b[0;31mSyntaxError\u001b[0m\u001b[0;31m:\u001b[0m invalid syntax\n"
     ]
    }
   ],
   "source": [
    "# inputs: \n",
    "# 1. item_id corresponding to node u (scalar) \n",
    "# 2. vector representations of all nodes Z (matrix formatted as a 2D numpy array)\n",
    "# 3. k-means output (df4 above) (pandas dataframe)\n",
    "def loss_function(item_id, Z, df4):\n",
    "    \n",
    "    # step 1: match item_id to row index (u)\n",
    "    u = # not sure how to do this\n",
    "    \n",
    "    # step 2: set alpha \n",
    "    alpha = 0.5\n",
    "\n",
    "    # step 3: go on random walk\n",
    "    # u is the starting node\n",
    "    p = np.zeros(T.shape[0])\n",
    "    p[u] = 1\n",
    "    p = p.reshape(-1,1)\n",
    "    # define the random walk length, say 10\n",
    "    walkLength = 10\n",
    "    weights = []\n",
    "    visited = []\n",
    "    starting_node = u\n",
    "    for k in range(walkLength):\n",
    "        # evaluate the next state vector\n",
    "        p = np.dot(T,p)\n",
    "        # choose the node with higher probability as the visited node\n",
    "        visited.append(np.argmax(p))\n",
    "        weights.append(T[starting_node, np.argmax(p)])\n",
    "        starting_node = np.argmax(p)\n",
    "    # v is the node where you end up at the end of the random walk\n",
    "    v=visited[-1]\n",
    "    # calculate geometric mean of weights along random walk\n",
    "    geometric_mean = stats.gmean(weights)\n",
    "    \n",
    "    # step 4: define sigmoid function\n",
    "    def sigmoid(x):   \n",
    "        z = 1/(1 + np.exp(-x)) \n",
    "    return z\n",
    "\n",
    "    # step 5: calculate first term\n",
    "    # assuming that row u of matrix Z is the vector representation for node u\n",
    "    first_term = -(geometric_mean**alpha)*np.log(sigmoid(np.dot(Z[u,:],Z[v,:])))\n",
    "    \n",
    "    # step 6: calculate second term\n",
    "    # recommended to use Q = 2, 3, 4, or 5 since we have a large dataset\n",
    "    Q = 3 \n",
    "    # get one positive sample and Q negative samples\n",
    "    # positive sample is from u_cluster\n",
    "    # negative samples are not from u_cluster\n",
    "    \n",
    "    # which cluster corresponding to node u?\n",
    "    u_cluster = df4[df4[\"item_id\"] == item_id][\"cluster\"].tolist()[0]\n",
    "    \n",
    "    positive_sampling_df = df4[df4[\"cluster\"] == u_cluster]\n",
    "    row = positive_sampling_df.sample()\n",
    "    positive_item_id = row[\"item_id\"].tolist()[0]\n",
    "    \n",
    "    negative_sampling_df = df4[df4[\"cluster\"] != u_cluster]\n",
    "    rows = negative_sampling_df.sample(n=3, replace=False)\n",
    "    negative_item_ids = rows[\"item_id\"].tolist()\n",
    "    \n",
    "    # need to get corresponding rows of Z to fill in below by matching item_ids to row indices\n",
    "    positive_sample = np.log(sigmoid(np.dot(-Z[u,:],Z[,:])))\n",
    "    negative_sample_1 = np.log(sigmoid(np.dot(-Z[u,:],Z[,:])))\n",
    "    negative_sample_2 = np.log(sigmoid(np.dot(-Z[u,:],Z[,:])))\n",
    "    negative_sample_3 = np.log(sigmoid(np.dot(-Z[u,:],Z[,:])))\n",
    "    \n",
    "    # then calculate expectation (this is just arithmetic mean in this case?)\n",
    "    expectation = (positive_sample+negative_sample_1+negative_sample_2+negative_sample_3)/4\n",
    "    second_term = Q*expectation\n",
    "    \n",
    "    # step 7: subtract second term from first term to get loss\n",
    "    loss = first_term - second_term\n",
    "    \n",
    "    return loss\n"
   ]
  }
 ],
 "metadata": {
  "kernelspec": {
   "display_name": "Python 3",
   "language": "python",
   "name": "python3"
  },
  "language_info": {
   "codemirror_mode": {
    "name": "ipython",
    "version": 3
   },
   "file_extension": ".py",
   "mimetype": "text/x-python",
   "name": "python",
   "nbconvert_exporter": "python",
   "pygments_lexer": "ipython3",
   "version": "3.8.3"
  }
 },
 "nbformat": 4,
 "nbformat_minor": 4
}
