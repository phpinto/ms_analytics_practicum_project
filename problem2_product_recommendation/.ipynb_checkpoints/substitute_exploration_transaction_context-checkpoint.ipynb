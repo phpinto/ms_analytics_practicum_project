{
 "cells": [
  {
   "cell_type": "code",
   "execution_count": 1,
   "metadata": {},
   "outputs": [],
   "source": [
    "import pandas as pd\n",
    "import numpy as np\n",
    "import matplotlib.pyplot as plt"
   ]
  },
  {
   "cell_type": "markdown",
   "metadata": {},
   "source": [
    "## Read in Data"
   ]
  },
  {
   "cell_type": "code",
   "execution_count": 3,
   "metadata": {},
   "outputs": [],
   "source": [
    "raw = pd.read_csv(\"../raw_data/ncr/items_transactions.csv\", dtype=str)"
   ]
  },
  {
   "cell_type": "code",
   "execution_count": 7,
   "metadata": {},
   "outputs": [
    {
     "data": {
      "text/plain": [
       "0"
      ]
     },
     "execution_count": 7,
     "metadata": {},
     "output_type": "execute_result"
    }
   ],
   "source": [
    "np.sum(raw['dept_num'].isna())"
   ]
  },
  {
   "cell_type": "markdown",
   "metadata": {},
   "source": [
    "## Compute Co-occurrence Matrix"
   ]
  },
  {
   "cell_type": "code",
   "execution_count": 8,
   "metadata": {},
   "outputs": [],
   "source": [
    "temp = raw.groupby(['global_transaction_id','item_id'])['dept_num'].count()"
   ]
  },
  {
   "cell_type": "code",
   "execution_count": 9,
   "metadata": {},
   "outputs": [],
   "source": [
    "temp = temp.unstack().fillna(0)"
   ]
  },
  {
   "cell_type": "code",
   "execution_count": 10,
   "metadata": {},
   "outputs": [],
   "source": [
    "df_np = temp.to_numpy()"
   ]
  },
  {
   "cell_type": "code",
   "execution_count": 11,
   "metadata": {},
   "outputs": [],
   "source": [
    "num_items = np.sum(df_np, axis=1).reshape(-1,1)"
   ]
  },
  {
   "cell_type": "code",
   "execution_count": 12,
   "metadata": {},
   "outputs": [],
   "source": [
    "# different weights on pairwise count according to transaction size\n",
    "def weight_assign(a):\n",
    "    cutoff1 = 5\n",
    "    cutoff2 = 10\n",
    "    cutoff3 = 20\n",
    "    w1 = 1.0\n",
    "    w2 = 0.9\n",
    "    w3 = 0.8\n",
    "    w4 = 0.7    \n",
    "    if a[0] <= cutoff1:\n",
    "        return w1\n",
    "    elif a[0] > cutoff1 and a[0] <= cutoff2:\n",
    "        return w2\n",
    "    elif a[0] > cutoff2 and a[0] <= cutoff3:\n",
    "        return w3\n",
    "    else:\n",
    "        return w4\n",
    "\n",
    "weights = np.apply_along_axis(weight_assign, axis=1, arr=num_items).reshape(-1,1)"
   ]
  },
  {
   "cell_type": "code",
   "execution_count": 13,
   "metadata": {},
   "outputs": [],
   "source": [
    "df_np_weighted = df_np * weights"
   ]
  },
  {
   "cell_type": "code",
   "execution_count": 14,
   "metadata": {},
   "outputs": [],
   "source": [
    "co_occ = df_np.T.dot(df_np_weighted)"
   ]
  },
  {
   "cell_type": "code",
   "execution_count": 15,
   "metadata": {},
   "outputs": [
    {
     "data": {
      "text/plain": [
       "(10121, 10121)"
      ]
     },
     "execution_count": 15,
     "metadata": {},
     "output_type": "execute_result"
    }
   ],
   "source": [
    "co_occ.shape"
   ]
  },
  {
   "cell_type": "code",
   "execution_count": 16,
   "metadata": {},
   "outputs": [
    {
     "data": {
      "text/plain": [
       "array([[8.58970e+03, 2.25720e+03, 1.08100e+02, ..., 0.00000e+00,\n",
       "        2.50000e+00, 0.00000e+00],\n",
       "       [2.25720e+03, 1.85791e+04, 2.12600e+02, ..., 0.00000e+00,\n",
       "        9.10000e+00, 2.80000e+00],\n",
       "       [1.08100e+02, 2.12600e+02, 8.98000e+02, ..., 0.00000e+00,\n",
       "        0.00000e+00, 0.00000e+00],\n",
       "       ...,\n",
       "       [0.00000e+00, 0.00000e+00, 0.00000e+00, ..., 7.49000e+01,\n",
       "        0.00000e+00, 0.00000e+00],\n",
       "       [2.50000e+00, 9.10000e+00, 0.00000e+00, ..., 0.00000e+00,\n",
       "        3.11000e+01, 0.00000e+00],\n",
       "       [0.00000e+00, 2.80000e+00, 0.00000e+00, ..., 0.00000e+00,\n",
       "        0.00000e+00, 1.94800e+02]])"
      ]
     },
     "execution_count": 16,
     "metadata": {},
     "output_type": "execute_result"
    }
   ],
   "source": [
    "co_occ"
   ]
  },
  {
   "cell_type": "markdown",
   "metadata": {},
   "source": [
    "## Compute the Substitute Score and Some Experiments"
   ]
  },
  {
   "cell_type": "code",
   "execution_count": 17,
   "metadata": {},
   "outputs": [],
   "source": [
    "item_id_list = temp.columns.tolist()"
   ]
  },
  {
   "cell_type": "markdown",
   "metadata": {},
   "source": [
    "### substitute score function\n",
    "\n",
    "$score = \\frac{{X_i} \\cdot {X_j}}{\\lVert {X_i} \\rVert \\lVert {X_j} \\rVert}\\ e^{-\\frac{C_{ij}}{min(C_{ii}, C_{jj})}}$"
   ]
  },
  {
   "cell_type": "code",
   "execution_count": 18,
   "metadata": {},
   "outputs": [],
   "source": [
    "# compute substitute score\n",
    "def sub_score(item1, item2):\n",
    "    idx1 = item_id_list.index(item1)\n",
    "    idx2 = item_id_list.index(item2)\n",
    "    #penalty =  np.exp(co_occ[idx1,idx2]*2 / (co_occ[idx1, idx1] + co_occ[idx2, idx2]))\n",
    "    penalty =  np.exp(co_occ[idx1,idx2] / min(co_occ[idx1, idx1],co_occ[idx2, idx2]))\n",
    "    arr_item1 = np.delete(co_occ[idx1, :], [idx1,idx2])\n",
    "    arr_item2 = np.delete(co_occ[idx2, :], [idx1,idx2])\n",
    "    return np.dot(arr_item1, arr_item2)/(np.linalg.norm(arr_item1)*np.linalg.norm(arr_item2)) / penalty"
   ]
  },
  {
   "cell_type": "code",
   "execution_count": 19,
   "metadata": {},
   "outputs": [],
   "source": [
    "item_des =  pd.read_csv(\"../raw_data/ncr/items_descriptions.csv\", dtype=str)"
   ]
  },
  {
   "cell_type": "code",
   "execution_count": 20,
   "metadata": {},
   "outputs": [],
   "source": [
    "sample_item = ['00004900000044',\n",
    "'00004900000045',\n",
    "'00004900005016',\n",
    "'00001200000129',\n",
    "'00001200000559',\n",
    "'00001200017174',\n",
    "'00004900000764',\n",
    "'00001300000212']"
   ]
  },
  {
   "cell_type": "code",
   "execution_count": 23,
   "metadata": {},
   "outputs": [],
   "source": [
    "def get_top_substitute(target, item_id_list, top=20):\n",
    "    s = []\n",
    "    for item in item_id_list:\n",
    "        if item == target:\n",
    "            s.append(1)\n",
    "        else:\n",
    "            s.append(sub_score(target, item))\n",
    "    temp_df = pd.DataFrame({'item_id': item_id_list, 'sub_score': s})\n",
    "    temp_df = temp_df.merge(item_des, on='item_id', how='left')\n",
    "    temp_df = temp_df.sort_values(by=['sub_score'], ascending=False)\n",
    "    temp_df.dropna(axis=0, how='any', thresh=4, inplace=True)\n",
    "    return temp_df.iloc[:top+1, :]"
   ]
  },
  {
   "cell_type": "code",
   "execution_count": 35,
   "metadata": {},
   "outputs": [
    {
     "name": "stderr",
     "output_type": "stream",
     "text": [
      "<ipython-input-18-6e5e20b31e58>:9: RuntimeWarning: invalid value encountered in double_scalars\n",
      "  return np.dot(arr_item1, arr_item2)/(np.linalg.norm(arr_item1)*np.linalg.norm(arr_item2)) / penalty\n"
     ]
    },
    {
     "data": {
      "text/html": [
       "<div>\n",
       "<style scoped>\n",
       "    .dataframe tbody tr th:only-of-type {\n",
       "        vertical-align: middle;\n",
       "    }\n",
       "\n",
       "    .dataframe tbody tr th {\n",
       "        vertical-align: top;\n",
       "    }\n",
       "\n",
       "    .dataframe thead th {\n",
       "        text-align: right;\n",
       "    }\n",
       "</style>\n",
       "<table border=\"1\" class=\"dataframe\">\n",
       "  <thead>\n",
       "    <tr style=\"text-align: right;\">\n",
       "      <th></th>\n",
       "      <th>item_id</th>\n",
       "      <th>sub_score</th>\n",
       "      <th>description</th>\n",
       "      <th>ecomm_description</th>\n",
       "      <th>category</th>\n",
       "      <th>item_type</th>\n",
       "      <th>upc</th>\n",
       "    </tr>\n",
       "  </thead>\n",
       "  <tbody>\n",
       "    <tr>\n",
       "      <th>926</th>\n",
       "      <td>00001300000466</td>\n",
       "      <td>1.000000</td>\n",
       "      <td>HEINZ KETCHUP</td>\n",
       "      <td>HEINZ KETCHUP, 38 OZ</td>\n",
       "      <td>001260102</td>\n",
       "      <td>0</td>\n",
       "      <td>00013000004664</td>\n",
       "    </tr>\n",
       "    <tr>\n",
       "      <th>1673</th>\n",
       "      <td>00002500002716</td>\n",
       "      <td>0.843969</td>\n",
       "      <td>MINUTE MAID BERRY PUNCH</td>\n",
       "      <td>Minute Maid Juice, Berry Punch, 128 Oz</td>\n",
       "      <td>007142101</td>\n",
       "      <td>0</td>\n",
       "      <td>00025000027161</td>\n",
       "    </tr>\n",
       "    <tr>\n",
       "      <th>1038</th>\n",
       "      <td>00001480051324</td>\n",
       "      <td>0.839684</td>\n",
       "      <td>MOTTS CLAMATO JUICE-PLASTIC</td>\n",
       "      <td>Clamato Tomato Cocktail From Concentrate, 32 oz</td>\n",
       "      <td>001500104</td>\n",
       "      <td>0</td>\n",
       "      <td>00014800513240</td>\n",
       "    </tr>\n",
       "    <tr>\n",
       "      <th>1672</th>\n",
       "      <td>00002500002653</td>\n",
       "      <td>0.838669</td>\n",
       "      <td>MINUTE MAID FRUIT PUNCH</td>\n",
       "      <td>Minute Maid All Natural Fruit Punch, 128 Oz</td>\n",
       "      <td>007142101</td>\n",
       "      <td>0</td>\n",
       "      <td>00025000026539</td>\n",
       "    </tr>\n",
       "    <tr>\n",
       "      <th>2126</th>\n",
       "      <td>00003120020300</td>\n",
       "      <td>0.827934</td>\n",
       "      <td>OCEAN SPRAY CRAN JCE COCKTAIL</td>\n",
       "      <td>Ocean Spray Juice Cocktail, Cranberry, 101.4 oz</td>\n",
       "      <td>001500102</td>\n",
       "      <td>0</td>\n",
       "      <td>00031200203007</td>\n",
       "    </tr>\n",
       "    <tr>\n",
       "      <th>1680</th>\n",
       "      <td>00002500004498</td>\n",
       "      <td>0.826004</td>\n",
       "      <td>SIMPLY LEMONADE</td>\n",
       "      <td>SIMPLY LEMONADE, 52 OZ</td>\n",
       "      <td>007142101</td>\n",
       "      <td>0</td>\n",
       "      <td>00025000044984</td>\n",
       "    </tr>\n",
       "    <tr>\n",
       "      <th>4630</th>\n",
       "      <td>00005020000880</td>\n",
       "      <td>0.825530</td>\n",
       "      <td>PALLET SUNNY D FLORIDA CITRUS PUNCH</td>\n",
       "      <td>Sunny Delight Beverage, Florida Style, 128 Ounce</td>\n",
       "      <td>007142101</td>\n",
       "      <td>0</td>\n",
       "      <td>00050200008801</td>\n",
       "    </tr>\n",
       "    <tr>\n",
       "      <th>1036</th>\n",
       "      <td>00001480051275</td>\n",
       "      <td>0.822481</td>\n",
       "      <td>MOTTS CLAMATO PICANTE-PLASTIC</td>\n",
       "      <td>Mott's Inc Clamato Picante, 32 oz</td>\n",
       "      <td>001500104</td>\n",
       "      <td>0</td>\n",
       "      <td>00014800512755</td>\n",
       "    </tr>\n",
       "    <tr>\n",
       "      <th>9942</th>\n",
       "      <td>00089954100101</td>\n",
       "      <td>0.820076</td>\n",
       "      <td>CAMARONAZO PICANTE</td>\n",
       "      <td>Camaronazo Picante / Spicy Tomato Shrimp Cocktail</td>\n",
       "      <td>001500104</td>\n",
       "      <td>0</td>\n",
       "      <td>00899541001016</td>\n",
       "    </tr>\n",
       "    <tr>\n",
       "      <th>1037</th>\n",
       "      <td>00001480051276</td>\n",
       "      <td>0.819795</td>\n",
       "      <td>MOTTS CLAMATO TOMATO PICANTE</td>\n",
       "      <td>Clamato, Tomato Cocktail, Picante, 64 Ounce</td>\n",
       "      <td>001500104</td>\n",
       "      <td>0</td>\n",
       "      <td>00014800512762</td>\n",
       "    </tr>\n",
       "    <tr>\n",
       "      <th>1693</th>\n",
       "      <td>00002500005276</td>\n",
       "      <td>0.814059</td>\n",
       "      <td>SIMPLY LEMONADE</td>\n",
       "      <td>Simply Lemonade, Simply Lemonade, 89 Ounce</td>\n",
       "      <td>007142101</td>\n",
       "      <td>0</td>\n",
       "      <td>00025000052767</td>\n",
       "    </tr>\n",
       "  </tbody>\n",
       "</table>\n",
       "</div>"
      ],
      "text/plain": [
       "             item_id  sub_score                          description  \\\n",
       "926   00001300000466   1.000000                        HEINZ KETCHUP   \n",
       "1673  00002500002716   0.843969              MINUTE MAID BERRY PUNCH   \n",
       "1038  00001480051324   0.839684          MOTTS CLAMATO JUICE-PLASTIC   \n",
       "1672  00002500002653   0.838669              MINUTE MAID FRUIT PUNCH   \n",
       "2126  00003120020300   0.827934        OCEAN SPRAY CRAN JCE COCKTAIL   \n",
       "1680  00002500004498   0.826004                      SIMPLY LEMONADE   \n",
       "4630  00005020000880   0.825530  PALLET SUNNY D FLORIDA CITRUS PUNCH   \n",
       "1036  00001480051275   0.822481        MOTTS CLAMATO PICANTE-PLASTIC   \n",
       "9942  00089954100101   0.820076                   CAMARONAZO PICANTE   \n",
       "1037  00001480051276   0.819795         MOTTS CLAMATO TOMATO PICANTE   \n",
       "1693  00002500005276   0.814059                      SIMPLY LEMONADE   \n",
       "\n",
       "                                      ecomm_description   category item_type  \\\n",
       "926                                HEINZ KETCHUP, 38 OZ  001260102         0   \n",
       "1673             Minute Maid Juice, Berry Punch, 128 Oz  007142101         0   \n",
       "1038    Clamato Tomato Cocktail From Concentrate, 32 oz  001500104         0   \n",
       "1672        Minute Maid All Natural Fruit Punch, 128 Oz  007142101         0   \n",
       "2126    Ocean Spray Juice Cocktail, Cranberry, 101.4 oz  001500102         0   \n",
       "1680                             SIMPLY LEMONADE, 52 OZ  007142101         0   \n",
       "4630   Sunny Delight Beverage, Florida Style, 128 Ounce  007142101         0   \n",
       "1036                  Mott's Inc Clamato Picante, 32 oz  001500104         0   \n",
       "9942  Camaronazo Picante / Spicy Tomato Shrimp Cocktail  001500104         0   \n",
       "1037        Clamato, Tomato Cocktail, Picante, 64 Ounce  001500104         0   \n",
       "1693         Simply Lemonade, Simply Lemonade, 89 Ounce  007142101         0   \n",
       "\n",
       "                 upc  \n",
       "926   00013000004664  \n",
       "1673  00025000027161  \n",
       "1038  00014800513240  \n",
       "1672  00025000026539  \n",
       "2126  00031200203007  \n",
       "1680  00025000044984  \n",
       "4630  00050200008801  \n",
       "1036  00014800512755  \n",
       "9942  00899541001016  \n",
       "1037  00014800512762  \n",
       "1693  00025000052767  "
      ]
     },
     "execution_count": 35,
     "metadata": {},
     "output_type": "execute_result"
    }
   ],
   "source": [
    "target = item_id_list[np.random.choice(len(item_id_list))]\n",
    "target = '00001300000466'\n",
    "temp_df = get_top_substitute(target, item_id_list, 10)\n",
    "temp_df"
   ]
  }
 ],
 "metadata": {
  "kernelspec": {
   "display_name": "Python 3",
   "language": "python",
   "name": "python3"
  },
  "language_info": {
   "codemirror_mode": {
    "name": "ipython",
    "version": 3
   },
   "file_extension": ".py",
   "mimetype": "text/x-python",
   "name": "python",
   "nbconvert_exporter": "python",
   "pygments_lexer": "ipython3",
   "version": "3.8.3"
  }
 },
 "nbformat": 4,
 "nbformat_minor": 4
}
