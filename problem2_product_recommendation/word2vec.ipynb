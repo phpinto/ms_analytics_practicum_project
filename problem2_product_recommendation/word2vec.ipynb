{
 "cells": [
  {
   "cell_type": "code",
   "execution_count": 1,
   "metadata": {},
   "outputs": [],
   "source": [
    "import numpy as np\n",
    "from numpy import save\n",
    "import gensim\n",
    "from gensim.models import Word2Vec"
   ]
  },
  {
   "cell_type": "code",
   "execution_count": 2,
   "metadata": {},
   "outputs": [],
   "source": [
    "#both are numpy.ndarrays\n",
    "item_ids = np.load('../raw_data/model_outputs/item_ids.npy', allow_pickle=True)\n",
    "item_names = np.load('../raw_data/model_outputs/item_names.npy', allow_pickle=True)"
   ]
  },
  {
   "cell_type": "code",
   "execution_count": 3,
   "metadata": {},
   "outputs": [
    {
     "data": {
      "text/plain": [
       "48496"
      ]
     },
     "execution_count": 3,
     "metadata": {},
     "output_type": "execute_result"
    }
   ],
   "source": [
    "#48,496 products\n",
    "len(item_ids)"
   ]
  },
  {
   "cell_type": "code",
   "execution_count": 4,
   "metadata": {},
   "outputs": [
    {
     "data": {
      "text/plain": [
       "array([list(['pan', 'dulce', 'sencillo', 'mexican', 'sweet', 'bread', 'pan', 'dulce', 'mexicano', '1', 'count']),\n",
       "       list(['bolillo', 'french', 'rolls', 'bolillo', 'french', 'rolls', '1', 'count']),\n",
       "       list(['bolillo', 'queso', 'chile', 'jalap', 'jalapeo', 'and', 'cheese', 'bolillo', '1', 'count']),\n",
       "       list(['empanada']),\n",
       "       list(['mini', 'bolillo', 'bolillo', 'small', '2', 'oz'])],\n",
       "      dtype=object)"
      ]
     },
     "execution_count": 4,
     "metadata": {},
     "output_type": "execute_result"
    }
   ],
   "source": [
    "item_names[:5]"
   ]
  },
  {
   "cell_type": "code",
   "execution_count": 5,
   "metadata": {},
   "outputs": [],
   "source": [
    "#convert to list\n",
    "item_names_list = item_names.tolist()"
   ]
  },
  {
   "cell_type": "code",
   "execution_count": 6,
   "metadata": {},
   "outputs": [
    {
     "data": {
      "text/plain": [
       "[['pan',\n",
       "  'dulce',\n",
       "  'sencillo',\n",
       "  'mexican',\n",
       "  'sweet',\n",
       "  'bread',\n",
       "  'pan',\n",
       "  'dulce',\n",
       "  'mexicano',\n",
       "  '1',\n",
       "  'count'],\n",
       " ['bolillo', 'french', 'rolls', 'bolillo', 'french', 'rolls', '1', 'count'],\n",
       " ['bolillo',\n",
       "  'queso',\n",
       "  'chile',\n",
       "  'jalap',\n",
       "  'jalapeo',\n",
       "  'and',\n",
       "  'cheese',\n",
       "  'bolillo',\n",
       "  '1',\n",
       "  'count'],\n",
       " ['empanada'],\n",
       " ['mini', 'bolillo', 'bolillo', 'small', '2', 'oz']]"
      ]
     },
     "execution_count": 6,
     "metadata": {},
     "output_type": "execute_result"
    }
   ],
   "source": [
    "#list of lists\n",
    "item_names_list[:5]"
   ]
  },
  {
   "cell_type": "code",
   "execution_count": 7,
   "metadata": {},
   "outputs": [],
   "source": [
    "#create list of strings from list of lists\n",
    "item_names_list_2 = []\n",
    "for item_list in item_names_list:\n",
    "    item_string = ' '.join(item_list)\n",
    "    item_names_list_2.append(item_string)"
   ]
  },
  {
   "cell_type": "code",
   "execution_count": 8,
   "metadata": {},
   "outputs": [
    {
     "data": {
      "text/plain": [
       "['pan dulce sencillo mexican sweet bread pan dulce mexicano 1 count',\n",
       " 'bolillo french rolls bolillo french rolls 1 count',\n",
       " 'bolillo queso chile jalap jalapeo and cheese bolillo 1 count',\n",
       " 'empanada',\n",
       " 'mini bolillo bolillo small 2 oz']"
      ]
     },
     "execution_count": 8,
     "metadata": {},
     "output_type": "execute_result"
    }
   ],
   "source": [
    "#list of strings\n",
    "item_names_list_2[:5]"
   ]
  },
  {
   "cell_type": "code",
   "execution_count": 9,
   "metadata": {},
   "outputs": [],
   "source": [
    "word2vec = Word2Vec([item_names_list_2], size=200, min_count=1)"
   ]
  },
  {
   "cell_type": "code",
   "execution_count": 10,
   "metadata": {},
   "outputs": [],
   "source": [
    "#v1 is vector representation of 'empanada'\n",
    "v1 = word2vec.wv['empanada']"
   ]
  },
  {
   "cell_type": "code",
   "execution_count": 11,
   "metadata": {},
   "outputs": [
    {
     "data": {
      "text/plain": [
       "numpy.ndarray"
      ]
     },
     "execution_count": 11,
     "metadata": {},
     "output_type": "execute_result"
    }
   ],
   "source": [
    "#check type\n",
    "type(v1)"
   ]
  },
  {
   "cell_type": "code",
   "execution_count": 12,
   "metadata": {},
   "outputs": [
    {
     "data": {
      "text/plain": [
       "200"
      ]
     },
     "execution_count": 12,
     "metadata": {},
     "output_type": "execute_result"
    }
   ],
   "source": [
    "#check length\n",
    "len(v1)"
   ]
  },
  {
   "cell_type": "code",
   "execution_count": 13,
   "metadata": {},
   "outputs": [],
   "source": [
    "#stack the vectors\n",
    "v = []\n",
    "for product_name in item_names_list_2:\n",
    "    vi = word2vec.wv[product_name]\n",
    "    v.append(vi)\n",
    "v = np.array(v)\n",
    "#v is 48496 x 200"
   ]
  },
  {
   "cell_type": "code",
   "execution_count": 15,
   "metadata": {},
   "outputs": [],
   "source": [
    "#export v\n",
    "save('../raw_data/model_outputs/item_vectors.npy', v)"
   ]
  }
 ],
 "metadata": {
  "kernelspec": {
   "display_name": "Python 3",
   "language": "python",
   "name": "python3"
  },
  "language_info": {
   "codemirror_mode": {
    "name": "ipython",
    "version": 3
   },
   "file_extension": ".py",
   "mimetype": "text/x-python",
   "name": "python",
   "nbconvert_exporter": "python",
   "pygments_lexer": "ipython3",
   "version": "3.8.3"
  }
 },
 "nbformat": 4,
 "nbformat_minor": 4
}
