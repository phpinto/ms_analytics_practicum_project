{
 "cells": [
  {
   "cell_type": "code",
   "execution_count": 100,
   "metadata": {},
   "outputs": [],
   "source": [
    "from scipy import sparse\n",
    "import numpy as np\n",
    "import pandas as pd\n",
    "from numpy.random import choice\n",
    "import sklearn\n",
    "from sklearn.preprocessing import normalize"
   ]
  },
  {
   "cell_type": "code",
   "execution_count": null,
   "metadata": {},
   "outputs": [],
   "source": [
    "#sampling"
   ]
  },
  {
   "cell_type": "code",
   "execution_count": 101,
   "metadata": {},
   "outputs": [],
   "source": [
    "sparse_adj_matrix = sparse.load_npz(\"sparse_adj_matrix.npz\")"
   ]
  },
  {
   "cell_type": "code",
   "execution_count": 102,
   "metadata": {},
   "outputs": [
    {
     "data": {
      "text/plain": [
       "(10047, 10047)"
      ]
     },
     "execution_count": 102,
     "metadata": {},
     "output_type": "execute_result"
    }
   ],
   "source": [
    "sparse_adj_matrix.shape"
   ]
  },
  {
   "cell_type": "code",
   "execution_count": 106,
   "metadata": {},
   "outputs": [],
   "source": [
    "def myfunction(a_series):\n",
    "    all_indices = np.array([i+1 for i in range(10047)])\n",
    "    all_weights = a_series.to_numpy()\n",
    "    all_weights /= sum(all_weights)\n",
    "    neighbors = []\n",
    "    #sample 10 neighbors (or however many possible)\n",
    "    neighbors = np.random.choice(all_indices, min(10,len(np.nonzero(all_weights)[0])), p=all_weights, replace=False)\n",
    "    return neighbors\n",
    "\n",
    "#k = 1 for now\n",
    "def sampling(sparse_adj_matrix, beta):\n",
    "    k = 1\n",
    "    w = pd.DataFrame(sparse_adj_matrix.power(beta).multiply(k).toarray())\n",
    "    w[\"u\"] = w.apply(lambda a_series: myfunction(a_series), axis=1)\n",
    "    graph = w[[\"u\"]]\n",
    "    return graph"
   ]
  },
  {
   "cell_type": "code",
   "execution_count": 107,
   "metadata": {},
   "outputs": [],
   "source": [
    "#beta = 3 for now\n",
    "graph = sampling(sparse_adj_matrix, 3)\n",
    "graph[\"v\"] = np.arange(sparse_adj_matrix.shape[0])+1\n",
    "graph2 = graph.explode(\"u\")\n",
    "graph3 = graph2[[\"u\",\"v\"]]"
   ]
  },
  {
   "cell_type": "code",
   "execution_count": 108,
   "metadata": {},
   "outputs": [],
   "source": [
    "graph3.reset_index(drop=True, inplace=True)"
   ]
  },
  {
   "cell_type": "code",
   "execution_count": 109,
   "metadata": {},
   "outputs": [
    {
     "data": {
      "text/html": [
       "<div>\n",
       "<style scoped>\n",
       "    .dataframe tbody tr th:only-of-type {\n",
       "        vertical-align: middle;\n",
       "    }\n",
       "\n",
       "    .dataframe tbody tr th {\n",
       "        vertical-align: top;\n",
       "    }\n",
       "\n",
       "    .dataframe thead th {\n",
       "        text-align: right;\n",
       "    }\n",
       "</style>\n",
       "<table border=\"1\" class=\"dataframe\">\n",
       "  <thead>\n",
       "    <tr style=\"text-align: right;\">\n",
       "      <th></th>\n",
       "      <th>u</th>\n",
       "      <th>v</th>\n",
       "    </tr>\n",
       "  </thead>\n",
       "  <tbody>\n",
       "    <tr>\n",
       "      <th>0</th>\n",
       "      <td>7776</td>\n",
       "      <td>1</td>\n",
       "    </tr>\n",
       "    <tr>\n",
       "      <th>1</th>\n",
       "      <td>4643</td>\n",
       "      <td>1</td>\n",
       "    </tr>\n",
       "    <tr>\n",
       "      <th>2</th>\n",
       "      <td>8775</td>\n",
       "      <td>1</td>\n",
       "    </tr>\n",
       "    <tr>\n",
       "      <th>3</th>\n",
       "      <td>9601</td>\n",
       "      <td>1</td>\n",
       "    </tr>\n",
       "    <tr>\n",
       "      <th>4</th>\n",
       "      <td>9737</td>\n",
       "      <td>1</td>\n",
       "    </tr>\n",
       "    <tr>\n",
       "      <th>5</th>\n",
       "      <td>10</td>\n",
       "      <td>1</td>\n",
       "    </tr>\n",
       "    <tr>\n",
       "      <th>6</th>\n",
       "      <td>9383</td>\n",
       "      <td>1</td>\n",
       "    </tr>\n",
       "    <tr>\n",
       "      <th>7</th>\n",
       "      <td>7811</td>\n",
       "      <td>1</td>\n",
       "    </tr>\n",
       "    <tr>\n",
       "      <th>8</th>\n",
       "      <td>5452</td>\n",
       "      <td>1</td>\n",
       "    </tr>\n",
       "    <tr>\n",
       "      <th>9</th>\n",
       "      <td>7382</td>\n",
       "      <td>1</td>\n",
       "    </tr>\n",
       "  </tbody>\n",
       "</table>\n",
       "</div>"
      ],
      "text/plain": [
       "      u  v\n",
       "0  7776  1\n",
       "1  4643  1\n",
       "2  8775  1\n",
       "3  9601  1\n",
       "4  9737  1\n",
       "5    10  1\n",
       "6  9383  1\n",
       "7  7811  1\n",
       "8  5452  1\n",
       "9  7382  1"
      ]
     },
     "execution_count": 109,
     "metadata": {},
     "output_type": "execute_result"
    }
   ],
   "source": [
    "graph3.head(10)"
   ]
  },
  {
   "cell_type": "code",
   "execution_count": 67,
   "metadata": {},
   "outputs": [],
   "source": [
    "graph3[\"u,v\"] = graph3[\"u\"].astype(str)+','+graph3[\"v\"].astype(str)"
   ]
  },
  {
   "cell_type": "code",
   "execution_count": 68,
   "metadata": {},
   "outputs": [
    {
     "data": {
      "text/html": [
       "<div>\n",
       "<style scoped>\n",
       "    .dataframe tbody tr th:only-of-type {\n",
       "        vertical-align: middle;\n",
       "    }\n",
       "\n",
       "    .dataframe tbody tr th {\n",
       "        vertical-align: top;\n",
       "    }\n",
       "\n",
       "    .dataframe thead th {\n",
       "        text-align: right;\n",
       "    }\n",
       "</style>\n",
       "<table border=\"1\" class=\"dataframe\">\n",
       "  <thead>\n",
       "    <tr style=\"text-align: right;\">\n",
       "      <th></th>\n",
       "      <th>u</th>\n",
       "      <th>v</th>\n",
       "      <th>u,v</th>\n",
       "    </tr>\n",
       "  </thead>\n",
       "  <tbody>\n",
       "    <tr>\n",
       "      <th>0</th>\n",
       "      <td>9866</td>\n",
       "      <td>1</td>\n",
       "      <td>9866,1</td>\n",
       "    </tr>\n",
       "    <tr>\n",
       "      <th>1</th>\n",
       "      <td>7494</td>\n",
       "      <td>1</td>\n",
       "      <td>7494,1</td>\n",
       "    </tr>\n",
       "    <tr>\n",
       "      <th>2</th>\n",
       "      <td>8956</td>\n",
       "      <td>1</td>\n",
       "      <td>8956,1</td>\n",
       "    </tr>\n",
       "    <tr>\n",
       "      <th>3</th>\n",
       "      <td>4643</td>\n",
       "      <td>1</td>\n",
       "      <td>4643,1</td>\n",
       "    </tr>\n",
       "    <tr>\n",
       "      <th>4</th>\n",
       "      <td>5452</td>\n",
       "      <td>1</td>\n",
       "      <td>5452,1</td>\n",
       "    </tr>\n",
       "  </tbody>\n",
       "</table>\n",
       "</div>"
      ],
      "text/plain": [
       "      u  v     u,v\n",
       "0  9866  1  9866,1\n",
       "1  7494  1  7494,1\n",
       "2  8956  1  8956,1\n",
       "3  4643  1  4643,1\n",
       "4  5452  1  5452,1"
      ]
     },
     "execution_count": 68,
     "metadata": {},
     "output_type": "execute_result"
    }
   ],
   "source": [
    "graph3.head()"
   ]
  },
  {
   "cell_type": "code",
   "execution_count": 69,
   "metadata": {},
   "outputs": [],
   "source": [
    "graph3[\"s(u,v)\"] = graph3[\"u,v\"].apply(lambda x: sparse_adj_matrix[int(x.split(',')[0])-1,int(x.split(',')[1])-1])"
   ]
  },
  {
   "cell_type": "code",
   "execution_count": 70,
   "metadata": {},
   "outputs": [],
   "source": [
    "graph3.drop(columns=[\"u,v\"], inplace=True)"
   ]
  },
  {
   "cell_type": "code",
   "execution_count": 71,
   "metadata": {},
   "outputs": [
    {
     "data": {
      "text/html": [
       "<div>\n",
       "<style scoped>\n",
       "    .dataframe tbody tr th:only-of-type {\n",
       "        vertical-align: middle;\n",
       "    }\n",
       "\n",
       "    .dataframe tbody tr th {\n",
       "        vertical-align: top;\n",
       "    }\n",
       "\n",
       "    .dataframe thead th {\n",
       "        text-align: right;\n",
       "    }\n",
       "</style>\n",
       "<table border=\"1\" class=\"dataframe\">\n",
       "  <thead>\n",
       "    <tr style=\"text-align: right;\">\n",
       "      <th></th>\n",
       "      <th>u</th>\n",
       "      <th>v</th>\n",
       "      <th>s(u,v)</th>\n",
       "    </tr>\n",
       "  </thead>\n",
       "  <tbody>\n",
       "    <tr>\n",
       "      <th>0</th>\n",
       "      <td>9866</td>\n",
       "      <td>1</td>\n",
       "      <td>0.321751</td>\n",
       "    </tr>\n",
       "    <tr>\n",
       "      <th>1</th>\n",
       "      <td>7494</td>\n",
       "      <td>1</td>\n",
       "      <td>0.117884</td>\n",
       "    </tr>\n",
       "    <tr>\n",
       "      <th>2</th>\n",
       "      <td>8956</td>\n",
       "      <td>1</td>\n",
       "      <td>0.308931</td>\n",
       "    </tr>\n",
       "    <tr>\n",
       "      <th>3</th>\n",
       "      <td>4643</td>\n",
       "      <td>1</td>\n",
       "      <td>0.244979</td>\n",
       "    </tr>\n",
       "    <tr>\n",
       "      <th>4</th>\n",
       "      <td>5452</td>\n",
       "      <td>1</td>\n",
       "      <td>0.239583</td>\n",
       "    </tr>\n",
       "  </tbody>\n",
       "</table>\n",
       "</div>"
      ],
      "text/plain": [
       "      u  v    s(u,v)\n",
       "0  9866  1  0.321751\n",
       "1  7494  1  0.117884\n",
       "2  8956  1  0.308931\n",
       "3  4643  1  0.244979\n",
       "4  5452  1  0.239583"
      ]
     },
     "execution_count": 71,
     "metadata": {},
     "output_type": "execute_result"
    }
   ],
   "source": [
    "graph3.head()"
   ]
  },
  {
   "cell_type": "code",
   "execution_count": 61,
   "metadata": {},
   "outputs": [],
   "source": [
    "#aggregation\n",
    "#goes up to the CONCAT() part of the algorithm for the first layer"
   ]
  },
  {
   "cell_type": "code",
   "execution_count": 72,
   "metadata": {},
   "outputs": [],
   "source": [
    "item_vectors = np.load('item_vectors.npy')"
   ]
  },
  {
   "cell_type": "code",
   "execution_count": 73,
   "metadata": {},
   "outputs": [],
   "source": [
    "graph3[\"item vector of u\"] = graph3[\"u\"].apply(lambda x: item_vectors[x-1].tolist())"
   ]
  },
  {
   "cell_type": "code",
   "execution_count": 74,
   "metadata": {},
   "outputs": [
    {
     "data": {
      "text/html": [
       "<div>\n",
       "<style scoped>\n",
       "    .dataframe tbody tr th:only-of-type {\n",
       "        vertical-align: middle;\n",
       "    }\n",
       "\n",
       "    .dataframe tbody tr th {\n",
       "        vertical-align: top;\n",
       "    }\n",
       "\n",
       "    .dataframe thead th {\n",
       "        text-align: right;\n",
       "    }\n",
       "</style>\n",
       "<table border=\"1\" class=\"dataframe\">\n",
       "  <thead>\n",
       "    <tr style=\"text-align: right;\">\n",
       "      <th></th>\n",
       "      <th>u</th>\n",
       "      <th>v</th>\n",
       "      <th>s(u,v)</th>\n",
       "      <th>item vector of u</th>\n",
       "    </tr>\n",
       "  </thead>\n",
       "  <tbody>\n",
       "    <tr>\n",
       "      <th>0</th>\n",
       "      <td>9866</td>\n",
       "      <td>1</td>\n",
       "      <td>0.321751</td>\n",
       "      <td>[-0.00041886905091814697, 0.002327881054952740...</td>\n",
       "    </tr>\n",
       "    <tr>\n",
       "      <th>1</th>\n",
       "      <td>7494</td>\n",
       "      <td>1</td>\n",
       "      <td>0.117884</td>\n",
       "      <td>[-0.0014167504850775003, -0.000661931582726538...</td>\n",
       "    </tr>\n",
       "    <tr>\n",
       "      <th>2</th>\n",
       "      <td>8956</td>\n",
       "      <td>1</td>\n",
       "      <td>0.308931</td>\n",
       "      <td>[-0.0019281146815046668, -0.002377113793045282...</td>\n",
       "    </tr>\n",
       "    <tr>\n",
       "      <th>3</th>\n",
       "      <td>4643</td>\n",
       "      <td>1</td>\n",
       "      <td>0.244979</td>\n",
       "      <td>[0.0007616159855388105, -0.0012145633809268475...</td>\n",
       "    </tr>\n",
       "    <tr>\n",
       "      <th>4</th>\n",
       "      <td>5452</td>\n",
       "      <td>1</td>\n",
       "      <td>0.239583</td>\n",
       "      <td>[0.002006744733080268, 0.002265156479552388, 5...</td>\n",
       "    </tr>\n",
       "  </tbody>\n",
       "</table>\n",
       "</div>"
      ],
      "text/plain": [
       "      u  v    s(u,v)                                   item vector of u\n",
       "0  9866  1  0.321751  [-0.00041886905091814697, 0.002327881054952740...\n",
       "1  7494  1  0.117884  [-0.0014167504850775003, -0.000661931582726538...\n",
       "2  8956  1  0.308931  [-0.0019281146815046668, -0.002377113793045282...\n",
       "3  4643  1  0.244979  [0.0007616159855388105, -0.0012145633809268475...\n",
       "4  5452  1  0.239583  [0.002006744733080268, 0.002265156479552388, 5..."
      ]
     },
     "execution_count": 74,
     "metadata": {},
     "output_type": "execute_result"
    }
   ],
   "source": [
    "graph3.head()"
   ]
  },
  {
   "cell_type": "code",
   "execution_count": 75,
   "metadata": {},
   "outputs": [],
   "source": [
    "graph3[\"item vector of u normalized\"] = graph3[\"item vector of u\"].apply(lambda x: np.array(x) / np.sqrt(np.sum(np.array(x)**2)))"
   ]
  },
  {
   "cell_type": "code",
   "execution_count": 76,
   "metadata": {},
   "outputs": [
    {
     "data": {
      "text/html": [
       "<div>\n",
       "<style scoped>\n",
       "    .dataframe tbody tr th:only-of-type {\n",
       "        vertical-align: middle;\n",
       "    }\n",
       "\n",
       "    .dataframe tbody tr th {\n",
       "        vertical-align: top;\n",
       "    }\n",
       "\n",
       "    .dataframe thead th {\n",
       "        text-align: right;\n",
       "    }\n",
       "</style>\n",
       "<table border=\"1\" class=\"dataframe\">\n",
       "  <thead>\n",
       "    <tr style=\"text-align: right;\">\n",
       "      <th></th>\n",
       "      <th>u</th>\n",
       "      <th>v</th>\n",
       "      <th>s(u,v)</th>\n",
       "      <th>item vector of u</th>\n",
       "      <th>item vector of u normalized</th>\n",
       "    </tr>\n",
       "  </thead>\n",
       "  <tbody>\n",
       "    <tr>\n",
       "      <th>0</th>\n",
       "      <td>9866</td>\n",
       "      <td>1</td>\n",
       "      <td>0.321751</td>\n",
       "      <td>[-0.00041886905091814697, 0.002327881054952740...</td>\n",
       "      <td>[-0.019957349291730386, 0.11091374552848568, -...</td>\n",
       "    </tr>\n",
       "    <tr>\n",
       "      <th>1</th>\n",
       "      <td>7494</td>\n",
       "      <td>1</td>\n",
       "      <td>0.117884</td>\n",
       "      <td>[-0.0014167504850775003, -0.000661931582726538...</td>\n",
       "      <td>[-0.0680055548405659, -0.03177343154207547, -0...</td>\n",
       "    </tr>\n",
       "    <tr>\n",
       "      <th>2</th>\n",
       "      <td>8956</td>\n",
       "      <td>1</td>\n",
       "      <td>0.308931</td>\n",
       "      <td>[-0.0019281146815046668, -0.002377113793045282...</td>\n",
       "      <td>[-0.1024934531319508, -0.12636105283253646, 0....</td>\n",
       "    </tr>\n",
       "    <tr>\n",
       "      <th>3</th>\n",
       "      <td>4643</td>\n",
       "      <td>1</td>\n",
       "      <td>0.244979</td>\n",
       "      <td>[0.0007616159855388105, -0.0012145633809268475...</td>\n",
       "      <td>[0.03888659880051973, -0.06201319274895704, -0...</td>\n",
       "    </tr>\n",
       "    <tr>\n",
       "      <th>4</th>\n",
       "      <td>5452</td>\n",
       "      <td>1</td>\n",
       "      <td>0.239583</td>\n",
       "      <td>[0.002006744733080268, 0.002265156479552388, 5...</td>\n",
       "      <td>[0.09638903224587536, 0.10880120293844839, 0.0...</td>\n",
       "    </tr>\n",
       "  </tbody>\n",
       "</table>\n",
       "</div>"
      ],
      "text/plain": [
       "      u  v    s(u,v)                                   item vector of u  \\\n",
       "0  9866  1  0.321751  [-0.00041886905091814697, 0.002327881054952740...   \n",
       "1  7494  1  0.117884  [-0.0014167504850775003, -0.000661931582726538...   \n",
       "2  8956  1  0.308931  [-0.0019281146815046668, -0.002377113793045282...   \n",
       "3  4643  1  0.244979  [0.0007616159855388105, -0.0012145633809268475...   \n",
       "4  5452  1  0.239583  [0.002006744733080268, 0.002265156479552388, 5...   \n",
       "\n",
       "                         item vector of u normalized  \n",
       "0  [-0.019957349291730386, 0.11091374552848568, -...  \n",
       "1  [-0.0680055548405659, -0.03177343154207547, -0...  \n",
       "2  [-0.1024934531319508, -0.12636105283253646, 0....  \n",
       "3  [0.03888659880051973, -0.06201319274895704, -0...  \n",
       "4  [0.09638903224587536, 0.10880120293844839, 0.0...  "
      ]
     },
     "execution_count": 76,
     "metadata": {},
     "output_type": "execute_result"
    }
   ],
   "source": [
    "graph3.head()"
   ]
  },
  {
   "cell_type": "code",
   "execution_count": 77,
   "metadata": {},
   "outputs": [],
   "source": [
    "#gamma = 3 for now\n",
    "graph3[\"(s(u,v)**gamma)*(item vector of u normalized)\"] = (graph3[\"s(u,v)\"]**3)*(graph3[\"item vector of u normalized\"])"
   ]
  },
  {
   "cell_type": "code",
   "execution_count": 78,
   "metadata": {},
   "outputs": [
    {
     "data": {
      "text/html": [
       "<div>\n",
       "<style scoped>\n",
       "    .dataframe tbody tr th:only-of-type {\n",
       "        vertical-align: middle;\n",
       "    }\n",
       "\n",
       "    .dataframe tbody tr th {\n",
       "        vertical-align: top;\n",
       "    }\n",
       "\n",
       "    .dataframe thead th {\n",
       "        text-align: right;\n",
       "    }\n",
       "</style>\n",
       "<table border=\"1\" class=\"dataframe\">\n",
       "  <thead>\n",
       "    <tr style=\"text-align: right;\">\n",
       "      <th></th>\n",
       "      <th>u</th>\n",
       "      <th>v</th>\n",
       "      <th>s(u,v)</th>\n",
       "      <th>item vector of u</th>\n",
       "      <th>item vector of u normalized</th>\n",
       "      <th>(s(u,v)**gamma)*(item vector of u normalized)</th>\n",
       "    </tr>\n",
       "  </thead>\n",
       "  <tbody>\n",
       "    <tr>\n",
       "      <th>0</th>\n",
       "      <td>9866</td>\n",
       "      <td>1</td>\n",
       "      <td>0.321751</td>\n",
       "      <td>[-0.00041886905091814697, 0.002327881054952740...</td>\n",
       "      <td>[-0.019957349291730386, 0.11091374552848568, -...</td>\n",
       "      <td>[-0.0006647537103691717, 0.0036943946209106134...</td>\n",
       "    </tr>\n",
       "    <tr>\n",
       "      <th>1</th>\n",
       "      <td>7494</td>\n",
       "      <td>1</td>\n",
       "      <td>0.117884</td>\n",
       "      <td>[-0.0014167504850775003, -0.000661931582726538...</td>\n",
       "      <td>[-0.0680055548405659, -0.03177343154207547, -0...</td>\n",
       "      <td>[-0.0001114075101401435, -5.205161409255069e-0...</td>\n",
       "    </tr>\n",
       "    <tr>\n",
       "      <th>2</th>\n",
       "      <td>8956</td>\n",
       "      <td>1</td>\n",
       "      <td>0.308931</td>\n",
       "      <td>[-0.0019281146815046668, -0.002377113793045282...</td>\n",
       "      <td>[-0.1024934531319508, -0.12636105283253646, 0....</td>\n",
       "      <td>[-0.0030218960150685706, -0.003725603444377219...</td>\n",
       "    </tr>\n",
       "    <tr>\n",
       "      <th>3</th>\n",
       "      <td>4643</td>\n",
       "      <td>1</td>\n",
       "      <td>0.244979</td>\n",
       "      <td>[0.0007616159855388105, -0.0012145633809268475...</td>\n",
       "      <td>[0.03888659880051973, -0.06201319274895704, -0...</td>\n",
       "      <td>[0.0005717217842516247, -0.0009117355155550343...</td>\n",
       "    </tr>\n",
       "    <tr>\n",
       "      <th>4</th>\n",
       "      <td>5452</td>\n",
       "      <td>1</td>\n",
       "      <td>0.239583</td>\n",
       "      <td>[0.002006744733080268, 0.002265156479552388, 5...</td>\n",
       "      <td>[0.09638903224587536, 0.10880120293844839, 0.0...</td>\n",
       "      <td>[0.0013255490120845346, 0.0014962420900832387,...</td>\n",
       "    </tr>\n",
       "  </tbody>\n",
       "</table>\n",
       "</div>"
      ],
      "text/plain": [
       "      u  v    s(u,v)                                   item vector of u  \\\n",
       "0  9866  1  0.321751  [-0.00041886905091814697, 0.002327881054952740...   \n",
       "1  7494  1  0.117884  [-0.0014167504850775003, -0.000661931582726538...   \n",
       "2  8956  1  0.308931  [-0.0019281146815046668, -0.002377113793045282...   \n",
       "3  4643  1  0.244979  [0.0007616159855388105, -0.0012145633809268475...   \n",
       "4  5452  1  0.239583  [0.002006744733080268, 0.002265156479552388, 5...   \n",
       "\n",
       "                         item vector of u normalized  \\\n",
       "0  [-0.019957349291730386, 0.11091374552848568, -...   \n",
       "1  [-0.0680055548405659, -0.03177343154207547, -0...   \n",
       "2  [-0.1024934531319508, -0.12636105283253646, 0....   \n",
       "3  [0.03888659880051973, -0.06201319274895704, -0...   \n",
       "4  [0.09638903224587536, 0.10880120293844839, 0.0...   \n",
       "\n",
       "       (s(u,v)**gamma)*(item vector of u normalized)  \n",
       "0  [-0.0006647537103691717, 0.0036943946209106134...  \n",
       "1  [-0.0001114075101401435, -5.205161409255069e-0...  \n",
       "2  [-0.0030218960150685706, -0.003725603444377219...  \n",
       "3  [0.0005717217842516247, -0.0009117355155550343...  \n",
       "4  [0.0013255490120845346, 0.0014962420900832387,...  "
      ]
     },
     "execution_count": 78,
     "metadata": {},
     "output_type": "execute_result"
    }
   ],
   "source": [
    "graph3.head()"
   ]
  },
  {
   "cell_type": "code",
   "execution_count": 80,
   "metadata": {},
   "outputs": [],
   "source": [
    "aggregated = pd.DataFrame(graph3.groupby('v')['(s(u,v)**gamma)*(item vector of u normalized)'].apply(np.mean))"
   ]
  },
  {
   "cell_type": "code",
   "execution_count": 81,
   "metadata": {},
   "outputs": [
    {
     "data": {
      "text/html": [
       "<div>\n",
       "<style scoped>\n",
       "    .dataframe tbody tr th:only-of-type {\n",
       "        vertical-align: middle;\n",
       "    }\n",
       "\n",
       "    .dataframe tbody tr th {\n",
       "        vertical-align: top;\n",
       "    }\n",
       "\n",
       "    .dataframe thead th {\n",
       "        text-align: right;\n",
       "    }\n",
       "</style>\n",
       "<table border=\"1\" class=\"dataframe\">\n",
       "  <thead>\n",
       "    <tr style=\"text-align: right;\">\n",
       "      <th></th>\n",
       "      <th>(s(u,v)**gamma)*(item vector of u normalized)</th>\n",
       "    </tr>\n",
       "    <tr>\n",
       "      <th>v</th>\n",
       "      <th></th>\n",
       "    </tr>\n",
       "  </thead>\n",
       "  <tbody>\n",
       "    <tr>\n",
       "      <th>1</th>\n",
       "      <td>[0.00043145295131681376, -0.001227778805448701...</td>\n",
       "    </tr>\n",
       "    <tr>\n",
       "      <th>2</th>\n",
       "      <td>[-0.008280149388059387, 0.014760684170112306, ...</td>\n",
       "    </tr>\n",
       "    <tr>\n",
       "      <th>3</th>\n",
       "      <td>[-0.0002361671881920575, 0.0018971397607103382...</td>\n",
       "    </tr>\n",
       "    <tr>\n",
       "      <th>4</th>\n",
       "      <td>[-0.02756260864145301, -0.004371294304897443, ...</td>\n",
       "    </tr>\n",
       "    <tr>\n",
       "      <th>5</th>\n",
       "      <td>[5.457826251767776e-07, -6.001193566735159e-06...</td>\n",
       "    </tr>\n",
       "  </tbody>\n",
       "</table>\n",
       "</div>"
      ],
      "text/plain": [
       "       (s(u,v)**gamma)*(item vector of u normalized)\n",
       "v                                                   \n",
       "1  [0.00043145295131681376, -0.001227778805448701...\n",
       "2  [-0.008280149388059387, 0.014760684170112306, ...\n",
       "3  [-0.0002361671881920575, 0.0018971397607103382...\n",
       "4  [-0.02756260864145301, -0.004371294304897443, ...\n",
       "5  [5.457826251767776e-07, -6.001193566735159e-06..."
      ]
     },
     "execution_count": 81,
     "metadata": {},
     "output_type": "execute_result"
    }
   ],
   "source": [
    "aggregated.head()"
   ]
  },
  {
   "cell_type": "code",
   "execution_count": 82,
   "metadata": {},
   "outputs": [],
   "source": [
    "aggregated.reset_index(inplace=True)"
   ]
  },
  {
   "cell_type": "code",
   "execution_count": 83,
   "metadata": {},
   "outputs": [
    {
     "data": {
      "text/html": [
       "<div>\n",
       "<style scoped>\n",
       "    .dataframe tbody tr th:only-of-type {\n",
       "        vertical-align: middle;\n",
       "    }\n",
       "\n",
       "    .dataframe tbody tr th {\n",
       "        vertical-align: top;\n",
       "    }\n",
       "\n",
       "    .dataframe thead th {\n",
       "        text-align: right;\n",
       "    }\n",
       "</style>\n",
       "<table border=\"1\" class=\"dataframe\">\n",
       "  <thead>\n",
       "    <tr style=\"text-align: right;\">\n",
       "      <th></th>\n",
       "      <th>v</th>\n",
       "      <th>(s(u,v)**gamma)*(item vector of u normalized)</th>\n",
       "    </tr>\n",
       "  </thead>\n",
       "  <tbody>\n",
       "    <tr>\n",
       "      <th>0</th>\n",
       "      <td>1</td>\n",
       "      <td>[0.00043145295131681376, -0.001227778805448701...</td>\n",
       "    </tr>\n",
       "    <tr>\n",
       "      <th>1</th>\n",
       "      <td>2</td>\n",
       "      <td>[-0.008280149388059387, 0.014760684170112306, ...</td>\n",
       "    </tr>\n",
       "    <tr>\n",
       "      <th>2</th>\n",
       "      <td>3</td>\n",
       "      <td>[-0.0002361671881920575, 0.0018971397607103382...</td>\n",
       "    </tr>\n",
       "    <tr>\n",
       "      <th>3</th>\n",
       "      <td>4</td>\n",
       "      <td>[-0.02756260864145301, -0.004371294304897443, ...</td>\n",
       "    </tr>\n",
       "    <tr>\n",
       "      <th>4</th>\n",
       "      <td>5</td>\n",
       "      <td>[5.457826251767776e-07, -6.001193566735159e-06...</td>\n",
       "    </tr>\n",
       "  </tbody>\n",
       "</table>\n",
       "</div>"
      ],
      "text/plain": [
       "   v      (s(u,v)**gamma)*(item vector of u normalized)\n",
       "0  1  [0.00043145295131681376, -0.001227778805448701...\n",
       "1  2  [-0.008280149388059387, 0.014760684170112306, ...\n",
       "2  3  [-0.0002361671881920575, 0.0018971397607103382...\n",
       "3  4  [-0.02756260864145301, -0.004371294304897443, ...\n",
       "4  5  [5.457826251767776e-07, -6.001193566735159e-06..."
      ]
     },
     "execution_count": 83,
     "metadata": {},
     "output_type": "execute_result"
    }
   ],
   "source": [
    "aggregated.head()"
   ]
  },
  {
   "cell_type": "code",
   "execution_count": 84,
   "metadata": {},
   "outputs": [],
   "source": [
    "aggregated.rename(columns={\"(s(u,v)**gamma)*(item vector of u normalized)\": \"h_k_Nv\"}, inplace=True)"
   ]
  },
  {
   "cell_type": "code",
   "execution_count": 85,
   "metadata": {},
   "outputs": [],
   "source": [
    "aggregated[\"h_k_Nv normalized\"] = aggregated[\"h_k_Nv\"].apply(lambda x: np.array(x) / np.sqrt(np.sum(np.array(x)**2)))"
   ]
  },
  {
   "cell_type": "code",
   "execution_count": 86,
   "metadata": {},
   "outputs": [
    {
     "data": {
      "text/html": [
       "<div>\n",
       "<style scoped>\n",
       "    .dataframe tbody tr th:only-of-type {\n",
       "        vertical-align: middle;\n",
       "    }\n",
       "\n",
       "    .dataframe tbody tr th {\n",
       "        vertical-align: top;\n",
       "    }\n",
       "\n",
       "    .dataframe thead th {\n",
       "        text-align: right;\n",
       "    }\n",
       "</style>\n",
       "<table border=\"1\" class=\"dataframe\">\n",
       "  <thead>\n",
       "    <tr style=\"text-align: right;\">\n",
       "      <th></th>\n",
       "      <th>v</th>\n",
       "      <th>h_k_Nv</th>\n",
       "      <th>h_k_Nv normalized</th>\n",
       "    </tr>\n",
       "  </thead>\n",
       "  <tbody>\n",
       "    <tr>\n",
       "      <th>0</th>\n",
       "      <td>1</td>\n",
       "      <td>[0.00043145295131681376, -0.001227778805448701...</td>\n",
       "      <td>[0.03412164397916872, -0.09709941989463228, -0...</td>\n",
       "    </tr>\n",
       "    <tr>\n",
       "      <th>1</th>\n",
       "      <td>2</td>\n",
       "      <td>[-0.008280149388059387, 0.014760684170112306, ...</td>\n",
       "      <td>[-0.04987246520650074, 0.08890560703646962, 0....</td>\n",
       "    </tr>\n",
       "    <tr>\n",
       "      <th>2</th>\n",
       "      <td>3</td>\n",
       "      <td>[-0.0002361671881920575, 0.0018971397607103382...</td>\n",
       "      <td>[-0.014174424503280138, 0.11386367647520647, -...</td>\n",
       "    </tr>\n",
       "    <tr>\n",
       "      <th>3</th>\n",
       "      <td>4</td>\n",
       "      <td>[-0.02756260864145301, -0.004371294304897443, ...</td>\n",
       "      <td>[-0.12043331252392313, -0.01910013163137255, 0...</td>\n",
       "    </tr>\n",
       "    <tr>\n",
       "      <th>4</th>\n",
       "      <td>5</td>\n",
       "      <td>[5.457826251767776e-07, -6.001193566735159e-06...</td>\n",
       "      <td>[0.0026428237075869217, -0.02905936521311713, ...</td>\n",
       "    </tr>\n",
       "  </tbody>\n",
       "</table>\n",
       "</div>"
      ],
      "text/plain": [
       "   v                                             h_k_Nv  \\\n",
       "0  1  [0.00043145295131681376, -0.001227778805448701...   \n",
       "1  2  [-0.008280149388059387, 0.014760684170112306, ...   \n",
       "2  3  [-0.0002361671881920575, 0.0018971397607103382...   \n",
       "3  4  [-0.02756260864145301, -0.004371294304897443, ...   \n",
       "4  5  [5.457826251767776e-07, -6.001193566735159e-06...   \n",
       "\n",
       "                                   h_k_Nv normalized  \n",
       "0  [0.03412164397916872, -0.09709941989463228, -0...  \n",
       "1  [-0.04987246520650074, 0.08890560703646962, 0....  \n",
       "2  [-0.014174424503280138, 0.11386367647520647, -...  \n",
       "3  [-0.12043331252392313, -0.01910013163137255, 0...  \n",
       "4  [0.0026428237075869217, -0.02905936521311713, ...  "
      ]
     },
     "execution_count": 86,
     "metadata": {},
     "output_type": "execute_result"
    }
   ],
   "source": [
    "aggregated.head()"
   ]
  },
  {
   "cell_type": "code",
   "execution_count": 87,
   "metadata": {},
   "outputs": [],
   "source": [
    "h_0 = sklearn.preprocessing.normalize(item_vectors, norm=\"l2\")"
   ]
  },
  {
   "cell_type": "code",
   "execution_count": 88,
   "metadata": {},
   "outputs": [],
   "source": [
    "aggregated[\"h_0_v\"] = aggregated[\"v\"].apply(lambda x: h_0[x-1])"
   ]
  },
  {
   "cell_type": "code",
   "execution_count": 89,
   "metadata": {},
   "outputs": [
    {
     "data": {
      "text/html": [
       "<div>\n",
       "<style scoped>\n",
       "    .dataframe tbody tr th:only-of-type {\n",
       "        vertical-align: middle;\n",
       "    }\n",
       "\n",
       "    .dataframe tbody tr th {\n",
       "        vertical-align: top;\n",
       "    }\n",
       "\n",
       "    .dataframe thead th {\n",
       "        text-align: right;\n",
       "    }\n",
       "</style>\n",
       "<table border=\"1\" class=\"dataframe\">\n",
       "  <thead>\n",
       "    <tr style=\"text-align: right;\">\n",
       "      <th></th>\n",
       "      <th>v</th>\n",
       "      <th>h_k_Nv</th>\n",
       "      <th>h_k_Nv normalized</th>\n",
       "      <th>h_0_v</th>\n",
       "    </tr>\n",
       "  </thead>\n",
       "  <tbody>\n",
       "    <tr>\n",
       "      <th>0</th>\n",
       "      <td>1</td>\n",
       "      <td>[0.00043145295131681376, -0.001227778805448701...</td>\n",
       "      <td>[0.03412164397916872, -0.09709941989463228, -0...</td>\n",
       "      <td>[-0.025009742, -0.061546545, -0.021576503, 0.0...</td>\n",
       "    </tr>\n",
       "    <tr>\n",
       "      <th>1</th>\n",
       "      <td>2</td>\n",
       "      <td>[-0.008280149388059387, 0.014760684170112306, ...</td>\n",
       "      <td>[-0.04987246520650074, 0.08890560703646962, 0....</td>\n",
       "      <td>[0.06487809, 0.018574934, -0.06885929, -0.1202...</td>\n",
       "    </tr>\n",
       "    <tr>\n",
       "      <th>2</th>\n",
       "      <td>3</td>\n",
       "      <td>[-0.0002361671881920575, 0.0018971397607103382...</td>\n",
       "      <td>[-0.014174424503280138, 0.11386367647520647, -...</td>\n",
       "      <td>[-0.043342058, -0.039694242, -0.08958718, -0.1...</td>\n",
       "    </tr>\n",
       "    <tr>\n",
       "      <th>3</th>\n",
       "      <td>4</td>\n",
       "      <td>[-0.02756260864145301, -0.004371294304897443, ...</td>\n",
       "      <td>[-0.12043331252392313, -0.01910013163137255, 0...</td>\n",
       "      <td>[0.01583572, -0.11006086, 0.0691011, -0.048232...</td>\n",
       "    </tr>\n",
       "    <tr>\n",
       "      <th>4</th>\n",
       "      <td>5</td>\n",
       "      <td>[5.457826251767776e-07, -6.001193566735159e-06...</td>\n",
       "      <td>[0.0026428237075869217, -0.02905936521311713, ...</td>\n",
       "      <td>[0.02773153, -0.047105808, 0.042153057, -0.057...</td>\n",
       "    </tr>\n",
       "  </tbody>\n",
       "</table>\n",
       "</div>"
      ],
      "text/plain": [
       "   v                                             h_k_Nv  \\\n",
       "0  1  [0.00043145295131681376, -0.001227778805448701...   \n",
       "1  2  [-0.008280149388059387, 0.014760684170112306, ...   \n",
       "2  3  [-0.0002361671881920575, 0.0018971397607103382...   \n",
       "3  4  [-0.02756260864145301, -0.004371294304897443, ...   \n",
       "4  5  [5.457826251767776e-07, -6.001193566735159e-06...   \n",
       "\n",
       "                                   h_k_Nv normalized  \\\n",
       "0  [0.03412164397916872, -0.09709941989463228, -0...   \n",
       "1  [-0.04987246520650074, 0.08890560703646962, 0....   \n",
       "2  [-0.014174424503280138, 0.11386367647520647, -...   \n",
       "3  [-0.12043331252392313, -0.01910013163137255, 0...   \n",
       "4  [0.0026428237075869217, -0.02905936521311713, ...   \n",
       "\n",
       "                                               h_0_v  \n",
       "0  [-0.025009742, -0.061546545, -0.021576503, 0.0...  \n",
       "1  [0.06487809, 0.018574934, -0.06885929, -0.1202...  \n",
       "2  [-0.043342058, -0.039694242, -0.08958718, -0.1...  \n",
       "3  [0.01583572, -0.11006086, 0.0691011, -0.048232...  \n",
       "4  [0.02773153, -0.047105808, 0.042153057, -0.057...  "
      ]
     },
     "execution_count": 89,
     "metadata": {},
     "output_type": "execute_result"
    }
   ],
   "source": [
    "aggregated.head()"
   ]
  },
  {
   "cell_type": "code",
   "execution_count": 90,
   "metadata": {},
   "outputs": [
    {
     "data": {
      "text/plain": [
       "array([3, 4, 5, 6])"
      ]
     },
     "execution_count": 90,
     "metadata": {},
     "output_type": "execute_result"
    }
   ],
   "source": [
    "a = np.array([3, 4])\n",
    "b = np.array([5, 6])\n",
    "np.concatenate([a, b])"
   ]
  },
  {
   "cell_type": "code",
   "execution_count": 91,
   "metadata": {},
   "outputs": [
    {
     "data": {
      "text/html": [
       "<div>\n",
       "<style scoped>\n",
       "    .dataframe tbody tr th:only-of-type {\n",
       "        vertical-align: middle;\n",
       "    }\n",
       "\n",
       "    .dataframe tbody tr th {\n",
       "        vertical-align: top;\n",
       "    }\n",
       "\n",
       "    .dataframe thead th {\n",
       "        text-align: right;\n",
       "    }\n",
       "</style>\n",
       "<table border=\"1\" class=\"dataframe\">\n",
       "  <thead>\n",
       "    <tr style=\"text-align: right;\">\n",
       "      <th></th>\n",
       "      <th>v</th>\n",
       "      <th>h_k_Nv</th>\n",
       "      <th>h_k_Nv normalized</th>\n",
       "      <th>h_0_v</th>\n",
       "      <th>concatenated</th>\n",
       "    </tr>\n",
       "  </thead>\n",
       "  <tbody>\n",
       "    <tr>\n",
       "      <th>0</th>\n",
       "      <td>1</td>\n",
       "      <td>[0.00043145295131681376, -0.001227778805448701...</td>\n",
       "      <td>[0.03412164397916872, -0.09709941989463228, -0...</td>\n",
       "      <td>[-0.025009742, -0.061546545, -0.021576503, 0.0...</td>\n",
       "      <td>[-0.025009742006659508, -0.06154654547572136, ...</td>\n",
       "    </tr>\n",
       "    <tr>\n",
       "      <th>1</th>\n",
       "      <td>2</td>\n",
       "      <td>[-0.008280149388059387, 0.014760684170112306, ...</td>\n",
       "      <td>[-0.04987246520650074, 0.08890560703646962, 0....</td>\n",
       "      <td>[0.06487809, 0.018574934, -0.06885929, -0.1202...</td>\n",
       "      <td>[0.06487809121608734, 0.01857493445277214, -0....</td>\n",
       "    </tr>\n",
       "    <tr>\n",
       "      <th>2</th>\n",
       "      <td>3</td>\n",
       "      <td>[-0.0002361671881920575, 0.0018971397607103382...</td>\n",
       "      <td>[-0.014174424503280138, 0.11386367647520647, -...</td>\n",
       "      <td>[-0.043342058, -0.039694242, -0.08958718, -0.1...</td>\n",
       "      <td>[-0.04334205761551857, -0.03969424217939377, -...</td>\n",
       "    </tr>\n",
       "    <tr>\n",
       "      <th>3</th>\n",
       "      <td>4</td>\n",
       "      <td>[-0.02756260864145301, -0.004371294304897443, ...</td>\n",
       "      <td>[-0.12043331252392313, -0.01910013163137255, 0...</td>\n",
       "      <td>[0.01583572, -0.11006086, 0.0691011, -0.048232...</td>\n",
       "      <td>[0.01583571918308735, -0.11006086319684982, 0....</td>\n",
       "    </tr>\n",
       "    <tr>\n",
       "      <th>4</th>\n",
       "      <td>5</td>\n",
       "      <td>[5.457826251767776e-07, -6.001193566735159e-06...</td>\n",
       "      <td>[0.0026428237075869217, -0.02905936521311713, ...</td>\n",
       "      <td>[0.02773153, -0.047105808, 0.042153057, -0.057...</td>\n",
       "      <td>[0.027731530368328094, -0.047105807811021805, ...</td>\n",
       "    </tr>\n",
       "  </tbody>\n",
       "</table>\n",
       "</div>"
      ],
      "text/plain": [
       "   v                                             h_k_Nv  \\\n",
       "0  1  [0.00043145295131681376, -0.001227778805448701...   \n",
       "1  2  [-0.008280149388059387, 0.014760684170112306, ...   \n",
       "2  3  [-0.0002361671881920575, 0.0018971397607103382...   \n",
       "3  4  [-0.02756260864145301, -0.004371294304897443, ...   \n",
       "4  5  [5.457826251767776e-07, -6.001193566735159e-06...   \n",
       "\n",
       "                                   h_k_Nv normalized  \\\n",
       "0  [0.03412164397916872, -0.09709941989463228, -0...   \n",
       "1  [-0.04987246520650074, 0.08890560703646962, 0....   \n",
       "2  [-0.014174424503280138, 0.11386367647520647, -...   \n",
       "3  [-0.12043331252392313, -0.01910013163137255, 0...   \n",
       "4  [0.0026428237075869217, -0.02905936521311713, ...   \n",
       "\n",
       "                                               h_0_v  \\\n",
       "0  [-0.025009742, -0.061546545, -0.021576503, 0.0...   \n",
       "1  [0.06487809, 0.018574934, -0.06885929, -0.1202...   \n",
       "2  [-0.043342058, -0.039694242, -0.08958718, -0.1...   \n",
       "3  [0.01583572, -0.11006086, 0.0691011, -0.048232...   \n",
       "4  [0.02773153, -0.047105808, 0.042153057, -0.057...   \n",
       "\n",
       "                                        concatenated  \n",
       "0  [-0.025009742006659508, -0.06154654547572136, ...  \n",
       "1  [0.06487809121608734, 0.01857493445277214, -0....  \n",
       "2  [-0.04334205761551857, -0.03969424217939377, -...  \n",
       "3  [0.01583571918308735, -0.11006086319684982, 0....  \n",
       "4  [0.027731530368328094, -0.047105807811021805, ...  "
      ]
     },
     "execution_count": 91,
     "metadata": {},
     "output_type": "execute_result"
    }
   ],
   "source": [
    "h_0_v = aggregated[\"h_0_v\"].tolist()\n",
    "h_k_Nv_normalized = aggregated[\"h_k_Nv normalized\"].tolist()\n",
    "\n",
    "concatenated = []\n",
    "for i in range(len(h_0_v)):\n",
    "    concatenated.append(np.concatenate([h_0_v[i], h_k_Nv_normalized[i]])) \n",
    "\n",
    "aggregated[\"concatenated\"] = concatenated\n",
    "aggregated.head()"
   ]
  }
 ],
 "metadata": {
  "kernelspec": {
   "display_name": "Python 3",
   "language": "python",
   "name": "python3"
  },
  "language_info": {
   "codemirror_mode": {
    "name": "ipython",
    "version": 3
   },
   "file_extension": ".py",
   "mimetype": "text/x-python",
   "name": "python",
   "nbconvert_exporter": "python",
   "pygments_lexer": "ipython3",
   "version": "3.8.3"
  }
 },
 "nbformat": 4,
 "nbformat_minor": 4
}
