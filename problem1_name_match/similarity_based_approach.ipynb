{
 "cells": [
  {
   "cell_type": "markdown",
   "metadata": {},
   "source": [
    "# <center>Similarity-Based Approach for Product Name Matching<center>"
   ]
  },
  {
   "cell_type": "markdown",
   "metadata": {},
   "source": [
    "## Introduction:"
   ]
  },
  {
   "cell_type": "markdown",
   "metadata": {},
   "source": [
    "The key idea behind this approach is to establish a **mathematical similarity measure between strings** and match product names with the highest scores."
   ]
  },
  {
   "cell_type": "markdown",
   "metadata": {},
   "source": [
    "<img src=\"notebook_image/similarity_based.png\" alt=\"similarity_based\" style=\"width: 650px;\"/>"
   ]
  },
  {
   "cell_type": "markdown",
   "metadata": {},
   "source": [
    "We started by developing a Naïve model to test the effectiveness of using statistical string similarity as a fuzzy-matching approach. We then analyzed performance of that initial model to build a more robust multi-step version."
   ]
  },
  {
   "cell_type": "markdown",
   "metadata": {},
   "source": [
    "## 0. Importing Libraries:"
   ]
  },
  {
   "cell_type": "code",
   "execution_count": 2,
   "metadata": {},
   "outputs": [],
   "source": [
    "import numpy as np\n",
    "import pandas as pd\n",
    "from difflib import SequenceMatcher\n",
    "import re\n",
    "import string\n",
    "\n",
    "from sklearn.feature_extraction.text import TfidfVectorizer\n",
    "from scipy.sparse import csr_matrix\n",
    "from scipy.sparse import lil_matrix\n",
    "import sparse_dot_topn.sparse_dot_topn as ct\n",
    "import time\n",
    "\n",
    "import warnings\n",
    "warnings.filterwarnings('ignore')"
   ]
  },
  {
   "cell_type": "markdown",
   "metadata": {},
   "source": [
    "## 1. Importing Datasets:"
   ]
  },
  {
   "cell_type": "code",
   "execution_count": 3,
   "metadata": {},
   "outputs": [],
   "source": [
    "# Unlabeled Products\n",
    "\n",
    "instacart_products = pd.read_csv('../raw_data/third_party/instacart/products.csv')\n",
    "grocery_products = pd.read_excel('../raw_data/third_party/grocery.com/Grocery_UPC_Database.xlsx')"
   ]
  },
  {
   "cell_type": "code",
   "execution_count": 4,
   "metadata": {},
   "outputs": [],
   "source": [
    "# USDA Food Dataset\n",
    "\n",
    "food = pd.read_csv('../raw_data/third_party/food.csv')"
   ]
  },
  {
   "cell_type": "code",
   "execution_count": 5,
   "metadata": {},
   "outputs": [],
   "source": [
    "# NCR Dataset\n",
    "\n",
    "ncr =  pd.read_csv('../raw_data/ncr/items_descriptions.csv')"
   ]
  },
  {
   "cell_type": "code",
   "execution_count": 6,
   "metadata": {},
   "outputs": [],
   "source": [
    "# Master Catalog generated with the \"Self-Verifying Clustering Method\"\n",
    "\n",
    "master_catalog =  pd.read_csv('../raw_data/model_outputs/master_catalog.csv')"
   ]
  },
  {
   "cell_type": "markdown",
   "metadata": {},
   "source": [
    "## 2. Data Pre-processing"
   ]
  },
  {
   "cell_type": "code",
   "execution_count": 7,
   "metadata": {},
   "outputs": [],
   "source": [
    "# Adding fdc_id columns to unlabeled datasets:\n",
    "\n",
    "instacart_products['fdc_id'] = 0\n",
    "grocery_products['fdc_id'] = 0\n",
    "\n",
    "# Lower-casing all product names and removing non-alphanumeric characters besides periods:\n",
    "\n",
    "instacart_products[\"product_name\"] = instacart_products[\"product_name\"].str.lower().replace(r'[^A-Za-z0-9. ]+', '', regex=True)\n",
    "grocery_products[\"name\"] = grocery_products[\"name\"].str.lower().str.replace('/',' ').str.replace('-',' ').replace(r'[^A-Za-z0-9. ]+', '', regex=True)\n",
    "food[\"description\"] = food[\"description\"].str.lower().str.replace('/',' ').str.replace('-',' ').replace(r'[^A-Za-z0-9. ]+', '', regex=True)\n",
    "ncr[\"description\"] = ncr[\"description\"].str.lower().str.replace('/',' ').str.replace('-',' ').replace(r'[^A-Za-z0-9. ]+', '', regex=True)\n",
    "master_catalog[\"item_name\"] = master_catalog[\"item_name\"].str.lower().str.replace('/',' ').str.replace('-',' ').replace(r'[^A-Za-z0-9. ]+', '', regex=True)"
   ]
  },
  {
   "cell_type": "code",
   "execution_count": 8,
   "metadata": {},
   "outputs": [
    {
     "data": {
      "text/html": [
       "<div>\n",
       "<style scoped>\n",
       "    .dataframe tbody tr th:only-of-type {\n",
       "        vertical-align: middle;\n",
       "    }\n",
       "\n",
       "    .dataframe tbody tr th {\n",
       "        vertical-align: top;\n",
       "    }\n",
       "\n",
       "    .dataframe thead th {\n",
       "        text-align: right;\n",
       "    }\n",
       "</style>\n",
       "<table border=\"1\" class=\"dataframe\">\n",
       "  <thead>\n",
       "    <tr style=\"text-align: right;\">\n",
       "      <th></th>\n",
       "      <th>product_id</th>\n",
       "      <th>product_name</th>\n",
       "      <th>aisle_id</th>\n",
       "      <th>department_id</th>\n",
       "      <th>fdc_id</th>\n",
       "    </tr>\n",
       "  </thead>\n",
       "  <tbody>\n",
       "    <tr>\n",
       "      <th>0</th>\n",
       "      <td>1</td>\n",
       "      <td>chocolate sandwich cookies</td>\n",
       "      <td>61</td>\n",
       "      <td>19</td>\n",
       "      <td>0</td>\n",
       "    </tr>\n",
       "    <tr>\n",
       "      <th>1</th>\n",
       "      <td>2</td>\n",
       "      <td>allseasons salt</td>\n",
       "      <td>104</td>\n",
       "      <td>13</td>\n",
       "      <td>0</td>\n",
       "    </tr>\n",
       "    <tr>\n",
       "      <th>2</th>\n",
       "      <td>3</td>\n",
       "      <td>robust golden unsweetened oolong tea</td>\n",
       "      <td>94</td>\n",
       "      <td>7</td>\n",
       "      <td>0</td>\n",
       "    </tr>\n",
       "    <tr>\n",
       "      <th>3</th>\n",
       "      <td>4</td>\n",
       "      <td>smart ones classic favorites mini rigatoni wit...</td>\n",
       "      <td>38</td>\n",
       "      <td>1</td>\n",
       "      <td>0</td>\n",
       "    </tr>\n",
       "    <tr>\n",
       "      <th>4</th>\n",
       "      <td>5</td>\n",
       "      <td>green chile anytime sauce</td>\n",
       "      <td>5</td>\n",
       "      <td>13</td>\n",
       "      <td>0</td>\n",
       "    </tr>\n",
       "  </tbody>\n",
       "</table>\n",
       "</div>"
      ],
      "text/plain": [
       "   product_id                                       product_name  aisle_id  \\\n",
       "0           1                         chocolate sandwich cookies        61   \n",
       "1           2                                    allseasons salt       104   \n",
       "2           3               robust golden unsweetened oolong tea        94   \n",
       "3           4  smart ones classic favorites mini rigatoni wit...        38   \n",
       "4           5                          green chile anytime sauce         5   \n",
       "\n",
       "   department_id  fdc_id  \n",
       "0             19       0  \n",
       "1             13       0  \n",
       "2              7       0  \n",
       "3              1       0  \n",
       "4             13       0  "
      ]
     },
     "metadata": {},
     "output_type": "display_data"
    },
    {
     "data": {
      "text/html": [
       "<div>\n",
       "<style scoped>\n",
       "    .dataframe tbody tr th:only-of-type {\n",
       "        vertical-align: middle;\n",
       "    }\n",
       "\n",
       "    .dataframe tbody tr th {\n",
       "        vertical-align: top;\n",
       "    }\n",
       "\n",
       "    .dataframe thead th {\n",
       "        text-align: right;\n",
       "    }\n",
       "</style>\n",
       "<table border=\"1\" class=\"dataframe\">\n",
       "  <thead>\n",
       "    <tr style=\"text-align: right;\">\n",
       "      <th></th>\n",
       "      <th>grp_id</th>\n",
       "      <th>upc14</th>\n",
       "      <th>upc12</th>\n",
       "      <th>brand</th>\n",
       "      <th>name</th>\n",
       "      <th>fdc_id</th>\n",
       "    </tr>\n",
       "  </thead>\n",
       "  <tbody>\n",
       "    <tr>\n",
       "      <th>0</th>\n",
       "      <td>1</td>\n",
       "      <td>35200264013</td>\n",
       "      <td>35200264013</td>\n",
       "      <td>Riceland</td>\n",
       "      <td>riceland american jazmine rice</td>\n",
       "      <td>0</td>\n",
       "    </tr>\n",
       "    <tr>\n",
       "      <th>1</th>\n",
       "      <td>2</td>\n",
       "      <td>11111065925</td>\n",
       "      <td>11111065925</td>\n",
       "      <td>Caress</td>\n",
       "      <td>caress velvet bliss ultra silkening beauty bar...</td>\n",
       "      <td>0</td>\n",
       "    </tr>\n",
       "    <tr>\n",
       "      <th>2</th>\n",
       "      <td>3</td>\n",
       "      <td>23923330139</td>\n",
       "      <td>23923330139</td>\n",
       "      <td>Earth's Best</td>\n",
       "      <td>earths best organic fruit yogurt smoothie mixe...</td>\n",
       "      <td>0</td>\n",
       "    </tr>\n",
       "    <tr>\n",
       "      <th>3</th>\n",
       "      <td>4</td>\n",
       "      <td>208528800007</td>\n",
       "      <td>208528800007</td>\n",
       "      <td>Boar's Head</td>\n",
       "      <td>boars head sliced white american cheese   120 ct</td>\n",
       "      <td>0</td>\n",
       "    </tr>\n",
       "    <tr>\n",
       "      <th>4</th>\n",
       "      <td>5</td>\n",
       "      <td>759283100036</td>\n",
       "      <td>759283100036</td>\n",
       "      <td>Back To Nature</td>\n",
       "      <td>back to nature gluten free white cheddar rice ...</td>\n",
       "      <td>0</td>\n",
       "    </tr>\n",
       "  </tbody>\n",
       "</table>\n",
       "</div>"
      ],
      "text/plain": [
       "   grp_id         upc14         upc12           brand  \\\n",
       "0       1   35200264013   35200264013        Riceland   \n",
       "1       2   11111065925   11111065925          Caress   \n",
       "2       3   23923330139   23923330139    Earth's Best   \n",
       "3       4  208528800007  208528800007     Boar's Head   \n",
       "4       5  759283100036  759283100036  Back To Nature   \n",
       "\n",
       "                                                name  fdc_id  \n",
       "0                     riceland american jazmine rice       0  \n",
       "1  caress velvet bliss ultra silkening beauty bar...       0  \n",
       "2  earths best organic fruit yogurt smoothie mixe...       0  \n",
       "3   boars head sliced white american cheese   120 ct       0  \n",
       "4  back to nature gluten free white cheddar rice ...       0  "
      ]
     },
     "metadata": {},
     "output_type": "display_data"
    },
    {
     "data": {
      "text/html": [
       "<div>\n",
       "<style scoped>\n",
       "    .dataframe tbody tr th:only-of-type {\n",
       "        vertical-align: middle;\n",
       "    }\n",
       "\n",
       "    .dataframe tbody tr th {\n",
       "        vertical-align: top;\n",
       "    }\n",
       "\n",
       "    .dataframe thead th {\n",
       "        text-align: right;\n",
       "    }\n",
       "</style>\n",
       "<table border=\"1\" class=\"dataframe\">\n",
       "  <thead>\n",
       "    <tr style=\"text-align: right;\">\n",
       "      <th></th>\n",
       "      <th>fdc_id</th>\n",
       "      <th>data_type</th>\n",
       "      <th>description</th>\n",
       "      <th>food_category_id</th>\n",
       "      <th>publication_date</th>\n",
       "    </tr>\n",
       "  </thead>\n",
       "  <tbody>\n",
       "    <tr>\n",
       "      <th>0</th>\n",
       "      <td>344604</td>\n",
       "      <td>branded_food</td>\n",
       "      <td>tutturosso green 14.5oz. nsa italian diced tom...</td>\n",
       "      <td>NaN</td>\n",
       "      <td>2019-04-01</td>\n",
       "    </tr>\n",
       "    <tr>\n",
       "      <th>1</th>\n",
       "      <td>344605</td>\n",
       "      <td>branded_food</td>\n",
       "      <td>tutturosso green 14.5oz. italian diced tomatoes</td>\n",
       "      <td>NaN</td>\n",
       "      <td>2019-04-01</td>\n",
       "    </tr>\n",
       "    <tr>\n",
       "      <th>2</th>\n",
       "      <td>344606</td>\n",
       "      <td>branded_food</td>\n",
       "      <td>honeysuckle white fresh 97 ground white turkey</td>\n",
       "      <td>NaN</td>\n",
       "      <td>2019-04-01</td>\n",
       "    </tr>\n",
       "    <tr>\n",
       "      <th>3</th>\n",
       "      <td>344607</td>\n",
       "      <td>branded_food</td>\n",
       "      <td>honeysuckle white 97 ground white turkey</td>\n",
       "      <td>NaN</td>\n",
       "      <td>2019-04-01</td>\n",
       "    </tr>\n",
       "    <tr>\n",
       "      <th>4</th>\n",
       "      <td>344608</td>\n",
       "      <td>branded_food</td>\n",
       "      <td>honeysuckle whtie 85 ground turkey</td>\n",
       "      <td>NaN</td>\n",
       "      <td>2019-04-01</td>\n",
       "    </tr>\n",
       "  </tbody>\n",
       "</table>\n",
       "</div>"
      ],
      "text/plain": [
       "   fdc_id     data_type                                        description  \\\n",
       "0  344604  branded_food  tutturosso green 14.5oz. nsa italian diced tom...   \n",
       "1  344605  branded_food    tutturosso green 14.5oz. italian diced tomatoes   \n",
       "2  344606  branded_food     honeysuckle white fresh 97 ground white turkey   \n",
       "3  344607  branded_food           honeysuckle white 97 ground white turkey   \n",
       "4  344608  branded_food                 honeysuckle whtie 85 ground turkey   \n",
       "\n",
       "   food_category_id publication_date  \n",
       "0               NaN       2019-04-01  \n",
       "1               NaN       2019-04-01  \n",
       "2               NaN       2019-04-01  \n",
       "3               NaN       2019-04-01  \n",
       "4               NaN       2019-04-01  "
      ]
     },
     "metadata": {},
     "output_type": "display_data"
    },
    {
     "data": {
      "text/html": [
       "<div>\n",
       "<style scoped>\n",
       "    .dataframe tbody tr th:only-of-type {\n",
       "        vertical-align: middle;\n",
       "    }\n",
       "\n",
       "    .dataframe tbody tr th {\n",
       "        vertical-align: top;\n",
       "    }\n",
       "\n",
       "    .dataframe thead th {\n",
       "        text-align: right;\n",
       "    }\n",
       "</style>\n",
       "<table border=\"1\" class=\"dataframe\">\n",
       "  <thead>\n",
       "    <tr style=\"text-align: right;\">\n",
       "      <th></th>\n",
       "      <th>item_id</th>\n",
       "      <th>description</th>\n",
       "      <th>ecomm_description</th>\n",
       "      <th>category</th>\n",
       "      <th>item_type</th>\n",
       "      <th>upc</th>\n",
       "    </tr>\n",
       "  </thead>\n",
       "  <tbody>\n",
       "    <tr>\n",
       "      <th>0</th>\n",
       "      <td>1</td>\n",
       "      <td>pan dulce sencillo</td>\n",
       "      <td>Mexican Sweet Bread/Pan Dulce Mexicano, 1 Count</td>\n",
       "      <td>20101020</td>\n",
       "      <td>0</td>\n",
       "      <td>10</td>\n",
       "    </tr>\n",
       "    <tr>\n",
       "      <th>1</th>\n",
       "      <td>2</td>\n",
       "      <td>bolillo french rolls</td>\n",
       "      <td>Bolillo, French Rolls, 1 Count</td>\n",
       "      <td>20101210</td>\n",
       "      <td>0</td>\n",
       "      <td>20</td>\n",
       "    </tr>\n",
       "    <tr>\n",
       "      <th>2</th>\n",
       "      <td>3</td>\n",
       "      <td>bolillo queso chile jalap</td>\n",
       "      <td>Jalapeño and Cheese Bolillo, 1 Count</td>\n",
       "      <td>20101210</td>\n",
       "      <td>0</td>\n",
       "      <td>30</td>\n",
       "    </tr>\n",
       "    <tr>\n",
       "      <th>3</th>\n",
       "      <td>4</td>\n",
       "      <td>empanada</td>\n",
       "      <td>NaN</td>\n",
       "      <td>20101020</td>\n",
       "      <td>0</td>\n",
       "      <td>40</td>\n",
       "    </tr>\n",
       "    <tr>\n",
       "      <th>4</th>\n",
       "      <td>5</td>\n",
       "      <td>mini bolillo</td>\n",
       "      <td>BOLILLO SMALL, 2 OZ</td>\n",
       "      <td>20101210</td>\n",
       "      <td>0</td>\n",
       "      <td>50</td>\n",
       "    </tr>\n",
       "  </tbody>\n",
       "</table>\n",
       "</div>"
      ],
      "text/plain": [
       "   item_id                description  \\\n",
       "0        1         pan dulce sencillo   \n",
       "1        2       bolillo french rolls   \n",
       "2        3  bolillo queso chile jalap   \n",
       "3        4                   empanada   \n",
       "4        5               mini bolillo   \n",
       "\n",
       "                                 ecomm_description  category  item_type  upc  \n",
       "0  Mexican Sweet Bread/Pan Dulce Mexicano, 1 Count  20101020          0   10  \n",
       "1                   Bolillo, French Rolls, 1 Count  20101210          0   20  \n",
       "2             Jalapeño and Cheese Bolillo, 1 Count  20101210          0   30  \n",
       "3                                              NaN  20101020          0   40  \n",
       "4                              BOLILLO SMALL, 2 OZ  20101210          0   50  "
      ]
     },
     "metadata": {},
     "output_type": "display_data"
    },
    {
     "data": {
      "text/html": [
       "<div>\n",
       "<style scoped>\n",
       "    .dataframe tbody tr th:only-of-type {\n",
       "        vertical-align: middle;\n",
       "    }\n",
       "\n",
       "    .dataframe tbody tr th {\n",
       "        vertical-align: top;\n",
       "    }\n",
       "\n",
       "    .dataframe thead th {\n",
       "        text-align: right;\n",
       "    }\n",
       "</style>\n",
       "<table border=\"1\" class=\"dataframe\">\n",
       "  <thead>\n",
       "    <tr style=\"text-align: right;\">\n",
       "      <th></th>\n",
       "      <th>item_name</th>\n",
       "    </tr>\n",
       "  </thead>\n",
       "  <tbody>\n",
       "    <tr>\n",
       "      <th>0</th>\n",
       "      <td>kelloggs poptarts wild cherry 14.1oz</td>\n",
       "    </tr>\n",
       "    <tr>\n",
       "      <th>1</th>\n",
       "      <td>kellogg poptarts frosted strawberry 22oz</td>\n",
       "    </tr>\n",
       "    <tr>\n",
       "      <th>2</th>\n",
       "      <td>kellogg poptarts frosted strawberry slurpee 3....</td>\n",
       "    </tr>\n",
       "    <tr>\n",
       "      <th>3</th>\n",
       "      <td>sunshine cheezit crackers original 3oz</td>\n",
       "    </tr>\n",
       "    <tr>\n",
       "      <th>4</th>\n",
       "      <td>sunshine cheezit crackers hot spicy 7oz</td>\n",
       "    </tr>\n",
       "  </tbody>\n",
       "</table>\n",
       "</div>"
      ],
      "text/plain": [
       "                                           item_name\n",
       "0               kelloggs poptarts wild cherry 14.1oz\n",
       "1           kellogg poptarts frosted strawberry 22oz\n",
       "2  kellogg poptarts frosted strawberry slurpee 3....\n",
       "3             sunshine cheezit crackers original 3oz\n",
       "4            sunshine cheezit crackers hot spicy 7oz"
      ]
     },
     "metadata": {},
     "output_type": "display_data"
    }
   ],
   "source": [
    "display(instacart_products.head())\n",
    "display(grocery_products.head())\n",
    "display(food.head())\n",
    "display(ncr.head())\n",
    "display(master_catalog.head())"
   ]
  },
  {
   "cell_type": "markdown",
   "metadata": {},
   "source": [
    "## 3. Naïve Model:"
   ]
  },
  {
   "cell_type": "markdown",
   "metadata": {},
   "source": [
    "For the Naïve model, each new product name is compared to all product names in the Master Catalog based on the number of substring matches. The new product is then matched to the product in the Master Catalog that generates the highest similarity score.\n",
    "\n",
    "In our experiments, we used the Grocery.com and NCR datasets to represent the new product names and the USDA dataset to represent the Master Catalog. We also performed some string pre-processing techniques\n",
    "to improve the quality of the match results."
   ]
  },
  {
   "cell_type": "markdown",
   "metadata": {},
   "source": [
    "<img src=\"notebook_image/naive.png\" alt=\"naive\" style=\"width: 450px;\"/>"
   ]
  },
  {
   "cell_type": "markdown",
   "metadata": {},
   "source": [
    "### 31. Similarity Method:"
   ]
  },
  {
   "cell_type": "markdown",
   "metadata": {},
   "source": [
    "$\\textbf{Implementation:}$ *SequenceMatcher* class from the *difflib* Python library.\n",
    "\n",
    "$\n",
    "\\textbf{Formula:} \n",
    "\\begin{align}\n",
    "score = \\frac{M}{T},\n",
    "\\end{align}\n",
    "$\n",
    "where M = # of substring matches, T = total # of elements"
   ]
  },
  {
   "cell_type": "code",
   "execution_count": 8,
   "metadata": {},
   "outputs": [],
   "source": [
    "def similar(a, b):\n",
    "    return SequenceMatcher(None, a, b).ratio()"
   ]
  },
  {
   "cell_type": "code",
   "execution_count": 18,
   "metadata": {},
   "outputs": [
    {
     "name": "stdout",
     "output_type": "stream",
     "text": [
      "\n",
      "NCR Product Name: pan dulce sencillo\n",
      "USDA Product Name: pan dulce no topping\n",
      "Similarity Score: 0.631578947368421\n",
      "\n",
      "\n",
      "NCR Product Name: bolillo french rolls\n",
      "USDA Product Name: bolillo rolls\n",
      "Similarity Score: 0.7878787878787878\n",
      "\n",
      "\n",
      "NCR Product Name: bolillo queso chile jalap\n",
      "USDA Product Name: bouillon cubes chicken\n",
      "Similarity Score: 0.6382978723404256\n",
      "\n",
      "\n",
      "NCR Product Name: empanada\n",
      "USDA Product Name: empanada\n",
      "Similarity Score: 1.0\n",
      "\n",
      "\n",
      "NCR Product Name: mini bolillo\n",
      "USDA Product Name: mini rolls\n",
      "Similarity Score: 0.7272727272727273\n",
      "\n",
      "\n",
      "NCR Product Name: bolillo large\n",
      "USDA Product Name: bolillo rolls\n",
      "Similarity Score: 0.6923076923076923\n",
      "\n",
      "\n",
      "NCR Product Name: storebrand  tortillas single\n",
      "USDA Product Name: restaurant style tortilla triangles\n",
      "Similarity Score: 0.6666666666666666\n",
      "\n"
     ]
    }
   ],
   "source": [
    "'''for i, product in grocery_products.iterrows():\n",
    "    similarities = []\n",
    "    for j, row in food.iterrows():\n",
    "        similarities.append(similar(product['name'], str(row['description'])))\n",
    "    max_index = np.argmax(similarities, axis=0)\n",
    "    #grocery_products.iloc[i]['fdc_id'] = max_index\n",
    "    print()\n",
    "    print(\"Grocery.com Product Name: \" + product['name'])\n",
    "    print(\"USDA Product Name: \" + food.iloc[max_index]['description'])\n",
    "    print(\"Similarity Score: \" + str(similarities[max_index]))\n",
    "    print()'''\n",
    "\n",
    "for i, product in ncr.iterrows():\n",
    "    similarities = []\n",
    "    for j, row in food.iterrows():\n",
    "        similarities.append(similar(product['description'], str(row['description'])))\n",
    "    max_index = np.argmax(similarities, axis=0)\n",
    "    #grocery_products.iloc[i]['fdc_id'] = max_index\n",
    "    print()\n",
    "    print(\"NCR Product Name: \" + product['description'])\n",
    "    print(\"USDA Product Name: \" + food.iloc[max_index]['description'])\n",
    "    print(\"Similarity Score: \" + str(similarities[max_index]))\n",
    "    print()"
   ]
  },
  {
   "cell_type": "markdown",
   "metadata": {},
   "source": [
    "Based on the preliminary results, we empirically established some match quality thresholds. Scores over 0.75 were considered high-probability matches while scores under 0.6 were considered non-matches. We named he range of scores between ***0.6*** and ***0.75*** as the ***\\\"Danger Zone\\\"***, because, while the confidence level for that range was lower, correct matches were still observed fairly often."
   ]
  },
  {
   "cell_type": "markdown",
   "metadata": {},
   "source": [
    "<img src=\"notebook_image/thresholds.png\" alt=\"naive\" style=\"width: 450px;\"/>"
   ]
  },
  {
   "cell_type": "markdown",
   "metadata": {},
   "source": [
    "This model produced satisfactory preliminary results and had the advantage of being simple and highly interpretable. Additionally, matches outputted by the model could potentially be used as labeled training data for more advanced models. \n",
    "\n",
    "However, the Naïve Model also possessed some significant limitations: it was **extremely slow**, since each new product is compared to every item in the master catalog, and the **similarity measure was overly simplistic.**"
   ]
  },
  {
   "cell_type": "markdown",
   "metadata": {},
   "source": [
    "## 4. Multi-Step Model:"
   ]
  },
  {
   "cell_type": "markdown",
   "metadata": {},
   "source": [
    "This model improves on the Naïve approach by using a more sophisticated string similarity measure while reducing the overall computation time. It applies the cosine similarity on vectorized versions of each product name and improves performance by taking advantage of fast matrix operations performed by numerical libraries like NumPy and SciPy. These are the descriptions of each of the three steps:"
   ]
  },
  {
   "cell_type": "markdown",
   "metadata": {},
   "source": [
    "<img src=\"notebook_image/multi-step.png\" alt=\"multi-step\" style=\"width: 900px;\"/>"
   ]
  },
  {
   "cell_type": "markdown",
   "metadata": {},
   "source": [
    "### 4.1 Combining the Master Catalog with the NCR Dataset:"
   ]
  },
  {
   "cell_type": "code",
   "execution_count": 9,
   "metadata": {},
   "outputs": [],
   "source": [
    "catalog = master_catalog[\"item_name\"].dropna()\n",
    "catalog = catalog.values.astype('U')\n",
    "ncr_products = ncr[\"description\"]\n",
    "ncr_products.dropna()\n",
    "ncr_products = ncr_products.values.astype('U')\n",
    "\n",
    "all_products = np.concatenate((ncr_products, catalog), axis=None)\n",
    "\n",
    "# To run the experiments only with the NCR data set (whithout including the master catalog), uncomment the next line\n",
    "#all_products = ncr_products.copy()"
   ]
  },
  {
   "cell_type": "markdown",
   "metadata": {},
   "source": [
    "### 4.2 Splitting Product Names into N-grams: "
   ]
  },
  {
   "cell_type": "code",
   "execution_count": 10,
   "metadata": {},
   "outputs": [],
   "source": [
    "# Function to generate ngrams. Value of n should be set as a default value\n",
    "\n",
    "def ngrams(string, n=3):\n",
    "\n",
    "    string = re.sub(r'[,-./]|\\sBD',r'', string)\n",
    "    ngrams = zip(*[string[i:] for i in range(n)])\n",
    "    return [''.join(ngram) for ngram in ngrams]"
   ]
  },
  {
   "cell_type": "markdown",
   "metadata": {},
   "source": [
    "### 4.3 TF-IDF Vectorization: "
   ]
  },
  {
   "cell_type": "code",
   "execution_count": 11,
   "metadata": {},
   "outputs": [
    {
     "name": "stdout",
     "output_type": "stream",
     "text": [
      "TF-IDF Matrix Computation Time: 6.2 seconds\n",
      "TF-IDF Matrix Shape: (275206, 20114)\n"
     ]
    }
   ],
   "source": [
    "# Creating the TF-IDF Vectorizer object. If the analyzer paramenter is not set, it will use words instead of n-grams\n",
    "\n",
    "vectorizer = TfidfVectorizer(min_df=1, analyzer=ngrams)\n",
    "\n",
    "# Generating the TF-IDF Matrix\n",
    "\n",
    "t1 = time.time()\n",
    "tf_idf_matrix = vectorizer.fit_transform(all_products)\n",
    "t = time.time()-t1\n",
    "\n",
    "print(\"TF-IDF Matrix Computation Time: \" + str(round(t, 3)) + \" seconds\")\n",
    "print(\"TF-IDF Matrix Shape:\", tf_idf_matrix.shape)"
   ]
  },
  {
   "cell_type": "markdown",
   "metadata": {},
   "source": [
    "### 4.4 Optimized Cosine Similarity: "
   ]
  },
  {
   "cell_type": "code",
   "execution_count": 12,
   "metadata": {},
   "outputs": [],
   "source": [
    "def awesome_cossim_top(A, B, ntop, lower_bound=0):\n",
    "    A = A.tocsr()\n",
    "    B = B.tocsr()\n",
    "    M, _ = A.shape\n",
    "    _, N = B.shape\n",
    " \n",
    "    idx_dtype = np.int32\n",
    " \n",
    "    nnz_max = M*ntop\n",
    " \n",
    "    indptr = np.zeros(M+1, dtype=idx_dtype)\n",
    "    indices = np.zeros(nnz_max, dtype=idx_dtype)\n",
    "    data = np.zeros(nnz_max, dtype=A.dtype)\n",
    "\n",
    "    ct.sparse_dot_topn(\n",
    "        M, N, np.asarray(A.indptr, dtype=idx_dtype),\n",
    "        np.asarray(A.indices, dtype=idx_dtype),\n",
    "        A.data,\n",
    "        np.asarray(B.indptr, dtype=idx_dtype),\n",
    "        np.asarray(B.indices, dtype=idx_dtype),\n",
    "        B.data,\n",
    "        ntop,\n",
    "        lower_bound,\n",
    "        indptr, indices, data)\n",
    "\n",
    "    return csr_matrix((data,indices,indptr),shape=(M,N))"
   ]
  },
  {
   "cell_type": "code",
   "execution_count": 13,
   "metadata": {},
   "outputs": [
    {
     "name": "stdout",
     "output_type": "stream",
     "text": [
      "Similarity-Score Matrix Computation Time: 622.114 seconds\n",
      "Similarity-Score Matrix Shape: (275206, 275206)\n"
     ]
    }
   ],
   "source": [
    "t1 = time.time()\n",
    "similarity_score_matrix = awesome_cossim_top(tf_idf_matrix, tf_idf_matrix.transpose(), 10, 0.78)\n",
    "t = time.time()-t1\n",
    "\n",
    "print(\"Similarity-Score Matrix Computation Time: \" + str(round(t, 3)) + \" seconds\")\n",
    "print(\"Similarity-Score Matrix Shape:\", similarity_score_matrix.shape)"
   ]
  },
  {
   "cell_type": "markdown",
   "metadata": {},
   "source": [
    "### 4.5 Generating the Product Name Match Dictionary"
   ]
  },
  {
   "cell_type": "code",
   "execution_count": 15,
   "metadata": {},
   "outputs": [],
   "source": [
    "def get_matches_dict(sparse_matrix, name_vector, top):\n",
    "    non_zeros = sparse_matrix.nonzero()\n",
    "\n",
    "    sparserows = non_zeros[0]\n",
    "    sparsecols = non_zeros[1]\n",
    "    \n",
    "    if top:\n",
    "        nr_matches = top\n",
    "    else:\n",
    "        nr_matches = sparse_matrix.size\n",
    "        \n",
    "\n",
    "    left_side = np.empty([nr_matches], dtype=object)\n",
    "    right_side = np.empty([nr_matches,10], dtype=object)\n",
    "    similairity = np.zeros(nr_matches)\n",
    "\n",
    "    match_dict = {}\n",
    "    \n",
    "    # Iterating through the non-zero values of the Sparse Matrix\n",
    "    for index in range(0, nr_matches):\n",
    "        \n",
    "        # Inserting the keys into the dictionary if they are new\n",
    "        if name_vector[sparserows[index]] not in match_dict:\n",
    "            match_dict[name_vector[sparserows[index]]] = [[], []]\n",
    "        if name_vector[sparsecols[index]] not in match_dict:\n",
    "            match_dict[name_vector[sparsecols[index]]] = [[], []]\n",
    "            \n",
    "        # Appending product name matches and similarity scores to the dictionary\n",
    "        if sparse_matrix.data[index] != -1.0:\n",
    "            if name_vector[sparsecols[index]] not in match_dict[name_vector[sparserows[index]]][0]:\n",
    "                match_dict[name_vector[sparserows[index]]][0].append(name_vector[sparsecols[index]])\n",
    "                match_dict[name_vector[sparserows[index]]][1].append(sparse_matrix.data[index])\n",
    "                \n",
    "            if name_vector[sparserows[index]] not in match_dict[name_vector[sparsecols[index]]][0]:\n",
    "                match_dict[name_vector[sparsecols[index]]][0].append(name_vector[sparserows[index]])\n",
    "                match_dict[name_vector[sparsecols[index]]][1].append(sparse_matrix.data[index])\n",
    "\n",
    "    return match_dict"
   ]
  },
  {
   "cell_type": "markdown",
   "metadata": {},
   "source": [
    "### <center>Visual representation of the matrix operations in the Multi-Step Model:</center>"
   ]
  },
  {
   "cell_type": "markdown",
   "metadata": {},
   "source": [
    "<img src=\"notebook_image/matrices.png\" alt=\"matrices\" style=\"width: 800px;\"/>"
   ]
  },
  {
   "cell_type": "code",
   "execution_count": 18,
   "metadata": {},
   "outputs": [
    {
     "name": "stdout",
     "output_type": "stream",
     "text": [
      "\"pan dulce sencillo\" matching product names: \n"
     ]
    },
    {
     "data": {
      "text/plain": [
       "[[], []]"
      ]
     },
     "metadata": {},
     "output_type": "display_data"
    },
    {
     "name": "stdout",
     "output_type": "stream",
     "text": [
      "\n",
      "\"bolillo french rolls\" matching product names: \n"
     ]
    },
    {
     "data": {
      "text/plain": [
       "[[], []]"
      ]
     },
     "metadata": {},
     "output_type": "display_data"
    },
    {
     "name": "stdout",
     "output_type": "stream",
     "text": [
      "\n",
      "\"bolillo queso chile jalap\" matching product names: \n"
     ]
    },
    {
     "data": {
      "text/plain": [
       "[[], []]"
      ]
     },
     "metadata": {},
     "output_type": "display_data"
    },
    {
     "name": "stdout",
     "output_type": "stream",
     "text": [
      "\n",
      "\"empanada\" matching product names: \n"
     ]
    },
    {
     "data": {
      "text/plain": [
       "[['empanadas',\n",
       "  'empanada de pia empanada',\n",
       "  'empanada de crema empanada',\n",
       "  'empanada de manzana empanada',\n",
       "  'empanada de queso empanada'],\n",
       " [0.8948590055129169,\n",
       "  0.8516954277053159,\n",
       "  0.8426104563823023,\n",
       "  0.8174387749878556,\n",
       "  0.8122090782207405]]"
      ]
     },
     "metadata": {},
     "output_type": "display_data"
    },
    {
     "name": "stdout",
     "output_type": "stream",
     "text": [
      "\n",
      "\"empanadas\" matching product names: \n"
     ]
    },
    {
     "data": {
      "text/plain": [
       "[['empanada', 'empanadas box', 'cheese empanadas', 'baked empanadas'],\n",
       " [0.8948590055129169,\n",
       "  0.8372629369851776,\n",
       "  0.7959864337490576,\n",
       "  0.7924383338105727]]"
      ]
     },
     "metadata": {},
     "output_type": "display_data"
    },
    {
     "name": "stdout",
     "output_type": "stream",
     "text": [
      "\n",
      "\"empanada de pia empanada\" matching product names: \n"
     ]
    },
    {
     "data": {
      "text/plain": [
       "[['empanada',\n",
       "  'empanada de pina',\n",
       "  'empanada de crema empanada',\n",
       "  'empanada de manzana empanada',\n",
       "  'empanada de queso empanada'],\n",
       " [0.8516954277053159,\n",
       "  0.8314628629978196,\n",
       "  0.8900006309051466,\n",
       "  0.8535773796216122,\n",
       "  0.8198666682060988]]"
      ]
     },
     "metadata": {},
     "output_type": "display_data"
    },
    {
     "name": "stdout",
     "output_type": "stream",
     "text": [
      "\n",
      "\"empanada de crema empanada\" matching product names: \n"
     ]
    },
    {
     "data": {
      "text/plain": [
       "[['empanada',\n",
       "  'empanada de crema',\n",
       "  'empanada de pia empanada',\n",
       "  'empanada de manzana empanada',\n",
       "  'empanada de queso empanada'],\n",
       " [0.8426104563823023,\n",
       "  0.8907084020056475,\n",
       "  0.8900006309051466,\n",
       "  0.844472333658493,\n",
       "  0.8111212118762282]]"
      ]
     },
     "metadata": {},
     "output_type": "display_data"
    },
    {
     "name": "stdout",
     "output_type": "stream",
     "text": [
      "\n"
     ]
    }
   ],
   "source": [
    "# Setting the diagonal elements to -1:\n",
    "similarity_score_matrix.setdiag(-1)\n",
    "\n",
    "# Generating the Product Match Dictionary:\n",
    "matches_dict = get_matches_dict(similarity_score_matrix, all_products, None)\n",
    "\n",
    "i = 0\n",
    "for key in matches_dict:\n",
    "    print(\"\\\"\" + key + \"\\\" matching product names: \")\n",
    "    display(matches_dict[key])\n",
    "    print()\n",
    "    if i > 5:\n",
    "        break\n",
    "    i += 1"
   ]
  },
  {
   "cell_type": "markdown",
   "metadata": {},
   "source": [
    "### 4.6 Matching New Product Names"
   ]
  },
  {
   "cell_type": "markdown",
   "metadata": {},
   "source": [
    "After combining the product names provided by NCR with the new Master Catalog generated form the Self-verifying Clustering Method, the data set used to train the Multi-Step Model contained a total of 275,206 names. This caused the program to run considerably slower than when dealing exclusively with the NCR data.\n",
    "\n",
    "We concluded that, while the time it takes to compute the TF-IDF matrix is not significantly affected by the size of the dataset, the optimized cosine similarity calculation is the main bottleneck. The running time to run that function went from ~5 seconds to ~15 minutes after combining both data sets.\n",
    "\n",
    "To solve this problem, we devised an approach for quickly obtaining matches for new product names once the Product Name Dictionary has been generated. If the new name is one of the keys in the dictionary, it returns the existing matches for that name. If not, it quickly re-computes the TF-IDF Matrix and calculates the cosine similarity exclusively for the new product name. It then returns the newly found matches and updates the Product Name Dictionary."
   ]
  },
  {
   "cell_type": "markdown",
   "metadata": {},
   "source": [
    "### <center>Visual representation of the approach for obtaining matches for a new product name:</center>"
   ]
  },
  {
   "cell_type": "markdown",
   "metadata": {},
   "source": [
    "<img src=\"notebook_image/dict.png\" alt=\"dict\" style=\"width: 650px;\"/>"
   ]
  },
  {
   "cell_type": "code",
   "execution_count": 64,
   "metadata": {},
   "outputs": [],
   "source": [
    "def get_single_match_dict(sparse_matrix, name_vector, top, new_product):\n",
    "    non_zeros = sparse_matrix.nonzero()\n",
    "\n",
    "    sparserows = non_zeros[0]\n",
    "    sparsecols = non_zeros[1]\n",
    "    \n",
    "    if top:\n",
    "        nr_matches = top\n",
    "    else:\n",
    "        nr_matches = sparse_matrix.size\n",
    "        \n",
    "\n",
    "    left_side = np.empty([nr_matches], dtype=object)\n",
    "    right_side = np.empty([nr_matches,10], dtype=object)\n",
    "    similairity = np.zeros(nr_matches)\n",
    "\n",
    "    match_dict = {}\n",
    "    \n",
    "    match_dict[new_product] = [[], []]\n",
    "    \n",
    "    # Iterating through the non-zero values of the Sparse Matrix\n",
    "    for index in range(0, nr_matches):\n",
    "        if name_vector[sparsecols[index]] != new_product:\n",
    "            match_dict[new_product][0].append(name_vector[sparsecols[index]])\n",
    "            match_dict[new_product][1].append(sparse_matrix.data[index])\n",
    "\n",
    "    return match_dict"
   ]
  },
  {
   "cell_type": "markdown",
   "metadata": {},
   "source": [
    "The **insertNewProduct** function gives you the option of performing the quick version outlined before or of re-computing the entire similarity matrix by setting the *recompute_sim_matrix* to True or False."
   ]
  },
  {
   "cell_type": "code",
   "execution_count": 65,
   "metadata": {},
   "outputs": [],
   "source": [
    "def insertNewProduct(new_product, \n",
    "                    vectorizer, \n",
    "                    product_names, \n",
    "                    matches_dict, \n",
    "                    top, \n",
    "                    threshold,\n",
    "                    recompute_sim_matrix=False):\n",
    "    new_product_original = new_product\n",
    "    new_product = new_product_original.lower().replace('/',' ').replace('-',' ').replace(r'[^A-Za-z0-9. ]+', '')\n",
    "    \n",
    "    if new_product in matches_dict:\n",
    "            print(\"\\\"\" + new_product_original + \"\\\" matching product names: \")\n",
    "            display(matches_dict[new_product])\n",
    "            return matches_dict, product_names\n",
    "        \n",
    "    if recompute_sim_matrix:\n",
    "        \n",
    "        new_product_list = np.append(product_names,new_product)\n",
    "        tf_idf_matrix = vectorizer.fit_transform(new_product_list)\n",
    "        matches = awesome_cossim_top(tf_idf_matrix, tf_idf_matrix.transpose(), top, threshold)\n",
    "        matches.setdiag(-1)\n",
    "        matches_dict = get_matches_dict(matches, new_product_list, None)\n",
    "        \n",
    "        print(\"\\\"\" + new_product_original + \"\\\" matching product names: \")\n",
    "        display(matches_dict[new_product])\n",
    "        \n",
    "        return matches_dict, new_product_list\n",
    "    \n",
    "    else:\n",
    "        new_product_list = np.append(product_names,new_product)\n",
    "        new_tf_idf_matrix = vectorizer.fit_transform(new_product_list)\n",
    "\n",
    "        new_matches = awesome_cossim_top(new_tf_idf_matrix[-1], new_tf_idf_matrix.transpose(), top, threshold)\n",
    "\n",
    "        new_matches_dict = get_single_match_dict(new_matches, new_product_list, None, new_product)\n",
    "        print(\"\\\"\" + new_product_original + \"\\\" matching product names: \")\n",
    "        display(new_matches_dict[new_product])\n",
    "\n",
    "        matches_dict[new_product] = new_matches_dict[new_product]\n",
    "        for i in range(len(new_matches_dict[new_product][0])):\n",
    "            matches_dict[new_matches_dict[new_product][0][i]].append(new_product)\n",
    "            matches_dict[new_matches_dict[new_product][0][i]].append(new_matches_dict[new_product][1][i])\n",
    "        \n",
    "        return matches_dict, new_product_list"
   ]
  },
  {
   "cell_type": "code",
   "execution_count": 66,
   "metadata": {},
   "outputs": [
    {
     "name": "stdout",
     "output_type": "stream",
     "text": [
      "Inserting new product name without recomputing the similarity score matrix\n",
      "\n",
      "\n",
      "\"Empanada de Carne\" matching product names: \n"
     ]
    },
    {
     "data": {
      "text/plain": [
       "[['empanada argentina de carne'], [0.781471383192331]]"
      ]
     },
     "metadata": {},
     "output_type": "display_data"
    },
    {
     "name": "stdout",
     "output_type": "stream",
     "text": [
      "Elapsed Time: 6.656 seconds\n",
      "\n",
      "\n",
      "Checking that same product name again:\n",
      "\n",
      "\n",
      "\"Empanada de Carne\" matching product names: \n"
     ]
    },
    {
     "data": {
      "text/plain": [
       "[['empanada argentina de carne'], [0.781471383192331]]"
      ]
     },
     "metadata": {},
     "output_type": "display_data"
    },
    {
     "name": "stdout",
     "output_type": "stream",
     "text": [
      "Elapsed Time: 0.002 seconds\n"
     ]
    }
   ],
   "source": [
    "# Testing a new product name without recomputing the similarity score matrix:\n",
    "\n",
    "print(\"Inserting new product name without recomputing the similarity score matrix\")\n",
    "print()\n",
    "print()\n",
    "\n",
    "t1 = time.time()\n",
    "matches_dict, all_products = insertNewProduct('Empanada de Carne', vectorizer, all_products, matches_dict, 10, 0.78)\n",
    "t = time.time()-t1\n",
    "\n",
    "print(\"Elapsed Time: \" + str(round(t, 3)) + \" seconds\")\n",
    "\n",
    "print()\n",
    "print()\n",
    "print(\"Checking that same product name again:\")\n",
    "print()\n",
    "print()\n",
    "\n",
    "t1 = time.time()\n",
    "matches_dict, all_products = insertNewProduct('Empanada de Carne', vectorizer, all_products, matches_dict, 10, 0.78)\n",
    "t = time.time()-t1\n",
    "\n",
    "print(\"Elapsed Time: \" + str(round(t, 3)) + \" seconds\")"
   ]
  },
  {
   "cell_type": "code",
   "execution_count": 67,
   "metadata": {},
   "outputs": [
    {
     "name": "stdout",
     "output_type": "stream",
     "text": [
      "Inserting new product name recomputing the similarity score matrix\n",
      "\n",
      "\n",
      "\"Frenchs Yellow Mustard\" matching product names: \n"
     ]
    },
    {
     "data": {
      "text/plain": [
       "[['frenchs classic yellow mustard'], [0.7899182426290459]]"
      ]
     },
     "metadata": {},
     "output_type": "display_data"
    },
    {
     "name": "stdout",
     "output_type": "stream",
     "text": [
      "Elapsed Time: 680.05 seconds\n",
      "\n",
      "\n",
      "Checking that same product name again: \n",
      "\n",
      "\n",
      "\"Frenchs Yellow Mustard\" matching product names: \n"
     ]
    },
    {
     "data": {
      "text/plain": [
       "[['frenchs classic yellow mustard'], [0.7899182426290459]]"
      ]
     },
     "metadata": {},
     "output_type": "display_data"
    },
    {
     "name": "stdout",
     "output_type": "stream",
     "text": [
      "Elapsed Time: 0.001 seconds\n"
     ]
    }
   ],
   "source": [
    "# Testing a new product name recomputing the similarity score matrix:\n",
    "print(\"Inserting new product name recomputing the similarity score matrix\")\n",
    "print()\n",
    "print()\n",
    "\n",
    "t1 = time.time()\n",
    "matches_dict, all_products = insertNewProduct('Frenchs Yellow Mustard', \n",
    "                                               vectorizer, \n",
    "                                               all_products, \n",
    "                                               matches_dict, \n",
    "                                               10, 0.78,\n",
    "                                               recompute_sim_matrix=True)\n",
    "t = time.time()-t1\n",
    "\n",
    "print(\"Elapsed Time: \"+ str(round(t, 3)) + \" seconds\")\n",
    "\n",
    "print()\n",
    "print()\n",
    "print(\"Checking that same product name again: \")\n",
    "print()\n",
    "print()\n",
    "\n",
    "t1 = time.time()\n",
    "matches_dict, all_products = insertNewProduct('Frenchs Yellow Mustard', \n",
    "                                               vectorizer, \n",
    "                                               all_products, \n",
    "                                               matches_dict, \n",
    "                                               10, 0.78,\n",
    "                                               recompute_sim_matrix=True)\n",
    "t = time.time()-t1\n",
    "\n",
    "print(\"Elapsed Time: \" + str(round(t, 3)) + \" seconds\")"
   ]
  }
 ],
 "metadata": {
  "kernelspec": {
   "display_name": "Python 3",
   "language": "python",
   "name": "python3"
  },
  "language_info": {
   "codemirror_mode": {
    "name": "ipython",
    "version": 3
   },
   "file_extension": ".py",
   "mimetype": "text/x-python",
   "name": "python",
   "nbconvert_exporter": "python",
   "pygments_lexer": "ipython3",
   "version": "3.8.3"
  }
 },
 "nbformat": 4,
 "nbformat_minor": 4
}
